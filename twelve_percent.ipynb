{
 "cells": [
  {
   "cell_type": "markdown",
   "metadata": {
    "pycharm": {
     "name": "#%% md\n"
    }
   },
   "source": [
    "<h2>\n",
    "<i>ETF Rotation</i>\n",
    "</h2>\n",
    "\n",
    "<p>\n",
    "This Jupyter notebook is saved on GitHub: https://github.com/IanLKaplan/twelve_percent\n",
    "</p>\n",
    "<p>\n",
    "The approach to investment return and risk varies with the investor.  A prudent investor that\n",
    "does not need access their investments for a twenty years might be willing to take\n",
    "higher risks in return for higher long term gains. A prudent investor who is near or at\n",
    "retirment age would have much less tolearance for risk.\n",
    "</p>\n",
    "<p>\n",
    "The Holy Grail of investing would be market (e.g., S&P 500) returns or better with\n",
    "much less risk (like the Holy Grail, this is generally unattainable).\n",
    "</p>\n",
    "<p>\n",
    "This Jupyter notebook investigates a stock market trading algorithm that is often referred\n",
    "to as ETF rotation. The ETF rotation algorith has less risk\n",
    "and, in some cases, better returns than a \"buy and hold\" algorithm (see\n",
    "<a href=\"https://github.com/IanLKaplan/all_weather_portfolio/blob/master/all_weather_portfolio.ipynb\">All Weather\" Portfolios</a>)\n",
    "For example, an ETF rotation portfolio had higher returns with less risk than the S&P 500 for\n",
    "a portfolio investment that started in 2008 to 2019.\n",
    "</p>\n",
    "<p>\n",
    "I first learned about the ETF rotation algoirthm in the\n",
    "(short) book <i>The 12% Solution: Earn A 12% Average Annual Return On Your Money, Beating\n",
    "The S&P 500</i> by David Alan Carter.  According to David Alan Carter, the outlined\n",
    "ETF rotation algorithm yields a 12% return, on average. The time period in the\n",
    " book ends in December 2017.\n",
    "</p>\n",
    "\n",
    "<p>\n",
    "In this Jupyter notebook I have tried to reproduce the results described in\n",
    "<i>The 12% solution</i>. The results in this notebook do not match the results\n",
    "in <i>The 12% solution</i>. The results in <i>The 12% Solution</i> show higher\n",
    "return than those calculated in this notebook.\n",
    "</p>\n",
    "<p>\n",
    "The analysis in <i>The 12% Solution</i> was done with on-line tools like those\n",
    "from <a href=\"ETFReplay.com\">ETFReplay.com</a>.  The promise of these on-line tools\n",
    "is that they can be used to investigate investment strategies without having to\n",
    "develop custom software in Python, Jupyter or R. These tools are generally \"black boxes\"\n",
    "and the user must trust that the on-line tool is properly simulating the\n",
    "desired portfolio technique.\n",
    "</p>\n",
    "<p>\n",
    "is targeted at a readership that is not using analytical\n",
    "tools like Python, Jupyter or R.  Following the proposed algorithm the reader trades one\n",
    "of four equity ETFs, two bond ETFs or a cash ETF. The analysis of past ETF\n",
    "performance described in <i>The 12% Solution</i> is performed using on-line tools.\n",
    "</p>\n",
    "<p>\n",
    "<i>The 12% Soluton</i> portfolio allocates 60% of the portfolio to equity (stock) ETFs\n",
    "and 40% in bonds.  The 60% equity/40% bond investment portfolio allocation is a\n",
    "often recommended for lower risk investment portfolios. The ETF rotation portfolios\n",
    "can have higher return and lower risk than buy and hold portfolios.\n",
    "</p>\n",
    "<p>\n",
    "The ETF rotation algorithm outlined in <i>The 12% solution</i> is sometimes referred\n",
    " to as a momentum algorithm. For the equity portion of the portfolio, an ETF with\n",
    " the highest previous three month return is selected from the equity ETF set.\n",
    " This ETF is held for one month before selecting another\n",
    " ETF (which may be the same as the current ETF).  The ETF returns are compared to\n",
    " a cash proxy ETF, SHY.  If SHY has a higher three month return, it will be selected\n",
    " for the next one mnth period.\n",
    " </p>\n",
    " <p>\n",
    " This momentum algorith is based on the\n",
    " idea that the return of the selected ETF over the next month is correlated\n",
    " with the past three month return.  As we shall see later, a quantitative analysis\n",
    " of this momentum algorith is difficult because of the limited data set and the\n",
    " resultant error.\n",
    "</p>\n",
    "<p>\n",
    "The bond portion of the portfolio is allocated to either a US Treasury bond\n",
    "ETF or to a corporate high yield (sometimes called junk bonds) ETF, depending on the\n",
    "relative yield over the previous three months.\n",
    "</p>\n",
    "<p>\n",
    "The ETFs used in <i>The 12% Solution</i> are highly correlated.  This notebook explores\n",
    "whether a larger ETF set would improve performance since there may be ETFs that have\n",
    "better performance in the previous quarter than the four equity ETFs.\n",
    "</p>\n",
    "\n",
    "<h2>\n",
    "The ETF Rotation Set\n",
    "</h2>\n",
    "<h3>\n",
    "Equity ETFs\n",
    "</h3>\n",
    "<p>\n",
    "In <i>The 12% Solution</i> there are four ETFs that are used in rotation, two bond funds\n",
    "and one ETF (SHY) that is used as a proxy for \"cash\" (e.g., an asset at the risk free rate).\n",
    "</p>\n",
    "<ul>\n",
    "<li>\n",
    "<p>\n",
    "IWM: iShares Russell 2000 ETF\n",
    "</p>\n",
    "<p>\n",
    "IWM tracks a market-cap-weighted index of US small-cap stocks. The index selects\n",
    "stocks ranked 1,001-3,000 by market cap.\n",
    "</p>\n",
    "<p>\n",
    "Inception date: 5/22/2000\n",
    "</p>\n",
    "</li>\n",
    "<li>\n",
    "<p>\n",
    "MDY: SPDR S&P Midcap 400 ETF Trust\n",
    "</p>\n",
    "<p>\n",
    "MDY tracks a market-cap-weighted index of midcap US companies.\n",
    "</p>\n",
    "<p>\n",
    "Inception date: 5/04/1995\n",
    "</p>\n",
    "</li>\n",
    "<li>\n",
    "<p>\n",
    "QQQ: Invesco QQQ Trust\n",
    "</p>\n",
    "<p>\n",
    "QQQ tracks a modified-market-cap-weighted index of 100 NASDAQ-listed stocks.\n",
    "</p>\n",
    "<p>\n",
    "Inception date: 3/10/1999\n",
    "</p>\n",
    "</li>\n",
    "<li>\n",
    "<p>\n",
    "SPY: SPDR S&P 500 ETF Trust\n",
    "</p>\n",
    "<p>\n",
    "SPY tracks a market-cap-weighted index of US large- and midcap stocks selected by\n",
    "the S&P Committee (e.g., S&P 500).\n",
    "</p>\n",
    "<p>\n",
    "Inception date: Jan 22, 1993\n",
    "</p>\n",
    "</li>\n",
    "</ul>\n",
    "<h3>\n",
    "Bond ETFs\n",
    "</h3>\n",
    "<ul>\n",
    "<li>\n",
    "<p>\n",
    "TLT: iShares 20+ Year Treasury Bond ETF\n",
    "</p>\n",
    "<p>\n",
    "TLT tracks a market-weighted index of debt issued by the US Treasury\n",
    "with remaining maturities of 20 years or more.\n",
    "</p>\n",
    "<p>\n",
    "Inception date: 7/22/2002\n",
    "</p>\n",
    "</li>\n",
    "<li>\n",
    "<p>\n",
    "JNK: SPDR Bloomberg High Yield Bond ETF\n",
    "</p>\n",
    "<p>\n",
    "JNK tracks a market-weighted index of highly liquid, high-yield, US\n",
    "dollar-denominated corporate bonds.\n",
    "</p>\n",
    "<p>\n",
    "Inception date: 11/28/2007\n",
    "</p>\n",
    "</li>\n",
    "</ul>\n",
    "<h3>\n",
    "Cash Proxy\n",
    "</h3>\n",
    "<ul>\n",
    "<li>\n",
    "<p>\n",
    "SHY: iShares 10-20 Year Treasury Bond ETF\n",
    "</p>\n",
    "<p>\n",
    "SHY tracks a market weighted index of debt issued by the US Treasury\n",
    "with 1-3 years remaining to maturity. Treasury STRIPS are excluded.\n",
    "</p>\n",
    "<p>\n",
    "Inception date: 07/22/2002\n",
    "</p>\n",
    "</li>\n",
    "</ul>\n",
    "<p>\n",
    "In <i>The 12% Solution</i> the backtest time period starts January 2008.\n",
    "The inception period for the JNK corporate high yield bond fund is\n",
    "November 18, 2007.  To simplify the software in this notebook, the start period is\n",
    "March 3, 2008 (prividing a look-back period over December 2007, January 2008 and\n",
    "February 2008).\n",
    "</p>"
   ]
  },
  {
   "cell_type": "code",
   "execution_count": 29,
   "metadata": {
    "collapsed": true,
    "jupyter": {
     "outputs_hidden": true
    }
   },
   "outputs": [],
   "source": [
    "from datetime import datetime, timedelta\n",
    "from numpy import sqrt\n",
    "from tabulate import tabulate\n",
    "from typing import List, Tuple\n",
    "from pandas_datareader import data\n",
    "import matplotlib.pyplot as plt\n",
    "import pandas as pd\n",
    "from pandas.core.indexes.datetimes import DatetimeIndex\n",
    "from dateutil.relativedelta import relativedelta\n",
    "import numpy as np\n",
    "from pathlib import Path\n",
    "import tempfile\n",
    "\n",
    "plt.style.use('seaborn-whitegrid')\n",
    "pd.options.mode.chained_assignment = 'raise'\n",
    "\n",
    "def get_market_data(file_name: str,\n",
    "                    data_col: str,\n",
    "                    symbols: List,\n",
    "                    data_source: str,\n",
    "                    start_date: datetime,\n",
    "                    end_date: datetime) -> pd.DataFrame:\n",
    "    \"\"\"\n",
    "      file_name: the file name in the temp directory that will be used to store the data\n",
    "      data_col: the type of data - 'Adj Close', 'Close', 'High', 'Low', 'Open', Volume'\n",
    "      symbols: a list of symbols to fetch data for\n",
    "      data_source: yahoo, etc...\n",
    "      start_date: the start date for the time series\n",
    "      end_date: the end data for the time series\n",
    "      Returns: a Pandas DataFrame containing the data.\n",
    "\n",
    "      If a file of market data does not already exist in the temporary directory, fetch it from the\n",
    "      data_source.\n",
    "    \"\"\"\n",
    "    temp_root: str = tempfile.gettempdir() + '/'\n",
    "    file_path: str = temp_root + file_name\n",
    "    temp_file_path = Path(file_path)\n",
    "    file_size = 0\n",
    "    if temp_file_path.exists():\n",
    "        file_size = temp_file_path.stat().st_size\n",
    "\n",
    "    if file_size > 0:\n",
    "        close_data = pd.read_csv(file_path, index_col='Date')\n",
    "    else:\n",
    "        panel_data: pd.DataFrame = data.DataReader(symbols, data_source, start_date, end_date)\n",
    "        close_data: pd.DataFrame = panel_data[data_col]\n",
    "        close_data.to_csv(file_path)\n",
    "    assert len(close_data) > 0, f'Error reading data for {symbols}'\n",
    "    return close_data\n",
    "\n",
    "\n",
    "equity_etfs = ['IWM', 'MDY', 'QQQ', 'SPY']\n",
    "bond_etfs = ['JNK', 'TLT']\n",
    "cash_etf = 'SHY'\n",
    "\n",
    "data_source = 'yahoo'\n",
    "# The start date is the date used in the examples in The 12% Solution\n",
    "# yyyy-mm-dd\n",
    "start_date_str = '2008-03-03'\n",
    "start_date: datetime = datetime.fromisoformat(start_date_str)\n",
    "look_back_date_str = '2007-12-03'\n",
    "look_back_date: datetime = datetime.fromisoformat(look_back_date_str)\n",
    "end_date: datetime = datetime.today() - timedelta(days=1)\n",
    "# get rid of any time component\n",
    "end_date = datetime(end_date.year, end_date.month, end_date.day)\n",
    "\n",
    "etf_adjclose_file = 'equity_etf_adjclose'\n",
    "equity_adj_close = get_market_data(file_name=etf_adjclose_file,\n",
    "                                data_col='Adj Close',\n",
    "                                symbols=equity_etfs,\n",
    "                                data_source=data_source,\n",
    "                                start_date=look_back_date,\n",
    "                                end_date=end_date)\n",
    "\n",
    "shy_adjclose_file = 'shy_adjclose'\n",
    "shy_adj_close = get_market_data(file_name=shy_adjclose_file,\n",
    "                                data_col='Adj Close',\n",
    "                                symbols=[cash_etf],\n",
    "                                data_source=data_source,\n",
    "                                start_date=look_back_date,\n",
    "                                end_date=end_date)\n",
    "\n",
    "fixed_income_adjclose_file = \"fixed_income_adjclose\"\n",
    "fixed_income_adjclose = get_market_data(file_name=fixed_income_adjclose_file,\n",
    "                                data_col='Adj Close',\n",
    "                                symbols=bond_etfs,\n",
    "                                data_source=data_source,\n",
    "                                start_date=look_back_date,\n",
    "                                end_date=end_date)\n",
    "\n",
    "# 13-week yearly treasury bond quote\n",
    "risk_free_asset = '^IRX'\n",
    "rf_file_name = 'rf_adj_close'\n",
    "# The bond return is reported as a yearly return percentage\n",
    "rf_adj_close = get_market_data(file_name=rf_file_name,\n",
    "                                data_col='Adj Close',\n",
    "                                symbols=[risk_free_asset],\n",
    "                                data_source=data_source,\n",
    "                                start_date=start_date,\n",
    "                                end_date=end_date)\n",
    "\n",
    "# The ^IRX interest rate is reported as a yearly percentage rate.\n",
    "# Convert this to a daily interest rate\n",
    "rf_adj_rate_np: np.array = np.array( rf_adj_close.values ) / 100\n",
    "rf_daily_np = ((1 + rf_adj_rate_np) ** (1/360)) - 1\n",
    "rf_daily_df: pd.DataFrame = pd.DataFrame( rf_daily_np, index=rf_adj_close.index, columns=['^IRX'])\n",
    "\n",
    "corr_mat = round(equity_adj_close.corr(), 3)\n"
   ]
  },
  {
   "cell_type": "markdown",
   "metadata": {
    "pycharm": {
     "name": "#%% md\n"
    }
   },
   "source": [
    "<h3>\n",
    "ETF Correlation\n",
    "</h3>\n",
    "<p>\n",
    "In <i>The 12% Solution</i> ETF rotation, the ETF with the highest return in the previous\n",
    "three months is selected, unless the return is less than the return of SHY, in which case\n",
    "SHY is selected.\n",
    "</p>\n",
    "<p>\n",
    "An important point to note is that the equity ETFs in the <i>The 12% Solution</i>\n",
    "set are highly correlated. One ETF may do somewhat better than another, but they are all\n",
    "market ETFs and have similar performance.  If the \"market\" is down\n",
    "then all of the ETFs will probably be down.\n",
    "</p>\n",
    "<p>\n",
    "The correlation matrix below shows the correlation between the equity ETFs.\n",
    "</p>"
   ]
  },
  {
   "cell_type": "code",
   "execution_count": 30,
   "metadata": {
    "jupyter": {
     "outputs_hidden": false
    },
    "pycharm": {
     "name": "#%%\n"
    }
   },
   "outputs": [
    {
     "name": "stdout",
     "output_type": "stream",
     "text": [
      "╒═════╤═══════╤═══════╤═══════╤═══════╕\n",
      "│     │   IWM │   MDY │   QQQ │   SPY │\n",
      "╞═════╪═══════╪═══════╪═══════╪═══════╡\n",
      "│ IWM │ 1     │ 0.997 │ 0.953 │ 0.981 │\n",
      "├─────┼───────┼───────┼───────┼───────┤\n",
      "│ MDY │ 0.997 │ 1     │ 0.954 │ 0.985 │\n",
      "├─────┼───────┼───────┼───────┼───────┤\n",
      "│ QQQ │ 0.953 │ 0.954 │ 1     │ 0.988 │\n",
      "├─────┼───────┼───────┼───────┼───────┤\n",
      "│ SPY │ 0.981 │ 0.985 │ 0.988 │ 1     │\n",
      "╘═════╧═══════╧═══════╧═══════╧═══════╛\n"
     ]
    }
   ],
   "source": [
    "print(tabulate(corr_mat, headers=[*corr_mat.columns], tablefmt='fancy_grid'))"
   ]
  },
  {
   "cell_type": "markdown",
   "metadata": {
    "pycharm": {
     "name": "#%% md\n"
    }
   },
   "source": [
    "<p>\n",
    "The high correlation between the ETFs suggests two areas that are worth investigating:\n",
    "</p>\n",
    "<ul>\n",
    "<li>\n",
    "<p>\n",
    "Would the financial performance be similar if only a single ETF were used. For example,\n",
    "SPY?\n",
    "</p>\n",
    "</li>\n",
    "<li>\n",
    "<p>\n",
    "If a larger ETF universe is used ETFs with lower correlation might be selected\n",
    "resulting in better performance.\n",
    "</p>\n",
    "</li>\n",
    "</ul>\n",
    "\n",
    "<h3>\n",
    "Asset return over time\n",
    "</h3>\n",
    "\n",
    "<p>\n",
    "The return calculations in this notebook use simple return. The simple return for\n",
    "a time period <i>t</i> is:\n",
    "</p>\n",
    "\n",
    "$\\ R_t = \\large \\frac{R_t - R_{t-1}}{R_{t-1}} = \\frac{R_t}{R_{t-1}} - 1$\n",
    "\n",
    "The portfolio value calculated via continuously compounded returns is:\n",
    "\n",
    "$\\ portfolio\\ value\\ = V_t = V_{t-1} + V_{t-1} \\times R_{t} $\n",
    "\n",
    "where $\\ V_{0} = initial\\ investment $"
   ]
  },
  {
   "cell_type": "code",
   "execution_count": 31,
   "metadata": {
    "jupyter": {
     "outputs_hidden": false
    },
    "pycharm": {
     "name": "#%%\n"
    }
   },
   "outputs": [],
   "source": [
    "def findDateIndex(date_index: DatetimeIndex, search_date: datetime) -> int:\n",
    "    '''\n",
    "    In a DatetimeIndex, find the index of the date that is nearest to search_date.\n",
    "    This date will either be equal to search_date or the next date that is less than\n",
    "    search_date\n",
    "    '''\n",
    "    index: int = -1\n",
    "    i = 0\n",
    "    date_t = datetime.today()\n",
    "    for i in range(0, len(date_index)):\n",
    "        date_t = date_index[i]\n",
    "        if type(date_t) == str:\n",
    "            date_t = datetime.fromisoformat(date_t)\n",
    "        if date_t >= search_date:\n",
    "            break\n",
    "    if date_t > search_date:\n",
    "        index = i - 1\n",
    "    elif date_t == search_date:\n",
    "        index = i\n",
    "    return index"
   ]
  },
  {
   "cell_type": "markdown",
   "source": [
    "<p>\n",
    "The ETF rotation set for 60% of the portfolio is composed of the equity ETFs and SHY.\n",
    "</p>"
   ],
   "metadata": {
    "collapsed": false
   }
  },
  {
   "cell_type": "code",
   "execution_count": 32,
   "outputs": [],
   "source": [
    "asset_adj_close = equity_adj_close.copy()\n",
    "asset_adj_close[shy_adj_close.columns[0]] = shy_adj_close\n",
    "\n",
    "start_date_ix = findDateIndex(asset_adj_close.index, start_date)\n",
    "\n",
    "assert start_date_ix >= 0\n",
    "\n",
    "\n",
    "def chooseAsset(start: int, end: int, asset_set: pd.DataFrame) -> pd.DataFrame:\n",
    "    '''\n",
    "    Choose an ETF asset for a particular range of close price values.\n",
    "    The ETF time series should be contained in a single DataFrame\n",
    "    The function returns a DataFrame with the highest returning asset for the\n",
    "    period.\n",
    "    '''\n",
    "    rslt_df = asset_set\n",
    "    asset_name = asset_set.columns[0]\n",
    "    if asset_set.shape[1] > 1:\n",
    "        ret_list = []\n",
    "        start_date = asset_set.index[start]\n",
    "        end_date = asset_set.index[end]\n",
    "        for asset in asset_set.columns:\n",
    "            ts = asset_set[asset][start:end+1]\n",
    "            start_val = ts[0]\n",
    "            end_val = ts[-1]\n",
    "            r = (end_val/start_val) - 1\n",
    "            ret_list.append(r)\n",
    "        ret_df = pd.DataFrame(ret_list).transpose()\n",
    "        ret_df.columns = asset_set.columns\n",
    "        column = ret_df.idxmax(axis=1)[0]\n",
    "        asset_name = column\n",
    "        rslt_df = pd.DataFrame(asset_set[column])\n",
    "    return rslt_df\n",
    "\n",
    "def chooseAssetName(start: int, end: int, asset_set: pd.DataFrame) -> str:\n",
    "    '''\n",
    "    Choose an ETF asset or cash for a particular range of close price values.\n",
    "    The ETF and cash time series should be contained in a single DataFrame\n",
    "    The function returns a DataFrame with the highest returning asset for the\n",
    "    period.\n",
    "    '''\n",
    "    asset_columns = asset_set.columns\n",
    "    asset_name = asset_columns[0]\n",
    "    if len(asset_columns) > 1:\n",
    "        ret_list = []\n",
    "        start_date = asset_set.index[start]\n",
    "        end_date = asset_set.index[end]\n",
    "        for asset in asset_set.columns:\n",
    "            ts = asset_set[asset][start:end+1]\n",
    "            start_val = ts[0]\n",
    "            end_val = ts[-1]\n",
    "            r = (end_val/start_val) - 1\n",
    "            ret_list.append(r)\n",
    "        ret_df = pd.DataFrame(ret_list).transpose()\n",
    "        ret_df.columns = asset_set.columns\n",
    "        column = ret_df.idxmax(axis=1)[0]\n",
    "        asset_name = column\n",
    "    return asset_name\n",
    "\n"
   ],
   "metadata": {
    "collapsed": false,
    "pycharm": {
     "name": "#%%\n"
    }
   }
  },
  {
   "cell_type": "markdown",
   "metadata": {
    "pycharm": {
     "name": "#%% md\n"
    }
   },
   "source": [
    "<h3>\n",
    "Start Period\n",
    "</h3>\n",
    "\n",
    "<p>\n",
    "<i>The 12% Solution</i> ETF rebalancing algorithm picks the ETF with the higest\n",
    "three month return or SHY (the proxy for cash).  The starting date is the first trading\n",
    "day in March 2008, March 3, 2008. The start of the look-back period is December 1, 2007.\n",
    "</p>\n",
    "The stock part of the portfolio (60%) is invested\n",
    "in the chosen asset for the next month and the portfolio is rebalanced again.\n",
    "</p>\n",
    "<p>\n",
    "The 40% of the portfolio that is held in bonds is invested in either TLT (the Treasury\n",
    "ETF) or JNK (the high yield corporate bond ETF).\n",
    "</p>"
   ]
  },
  {
   "cell_type": "code",
   "execution_count": 33,
   "metadata": {
    "jupyter": {
     "outputs_hidden": false
    },
    "pycharm": {
     "name": "#%%\n"
    }
   },
   "outputs": [
    {
     "name": "stdout",
     "output_type": "stream",
     "text": [
      "The asset for the first three month period will be SHY\n"
     ]
    }
   ],
   "source": [
    "start_date_ix = findDateIndex(asset_adj_close.index, start_date)\n",
    "asset_name = chooseAssetName(0, start_date_ix, asset_adj_close)\n",
    "\n",
    "print(f'The asset for the first three month period will be {asset_name}')"
   ]
  },
  {
   "cell_type": "markdown",
   "metadata": {
    "pycharm": {
     "name": "#%% md\n"
    }
   },
   "source": [
    "To check that the code is picking the right asset, we can look at the plot showing\n",
    "the percentage return for each of the assets."
   ]
  },
  {
   "cell_type": "code",
   "execution_count": 34,
   "metadata": {
    "jupyter": {
     "outputs_hidden": false
    },
    "pycharm": {
     "name": "#%%\n"
    }
   },
   "outputs": [
    {
     "data": {
      "text/plain": "Text(0, 0.5, 'Return Percent')"
     },
     "execution_count": 34,
     "metadata": {},
     "output_type": "execute_result"
    },
    {
     "data": {
      "text/plain": "<Figure size 720x432 with 1 Axes>",
      "image/png": "[encoded data removed]"
     },
     "metadata": {},
     "output_type": "display_data"
    }
   ],
   "source": [
    "def percent_return_df(start_date: datetime, end_date: datetime, prices_df: pd.DataFrame) -> pd.DataFrame:\n",
    "    def percent_return(time_series: pd.Series) -> pd.Series:\n",
    "        return list(((time_series[i] / time_series[0]) - 1.0 for i in range(0, len(time_series))))\n",
    "\n",
    "\n",
    "    date_index = prices_df.index\n",
    "    start_ix = findDateIndex(date_index, start_date)\n",
    "    end_ix = findDateIndex(date_index, end_date)\n",
    "    period_df = prices_df[:][start_ix:end_ix+1]\n",
    "    period_return_df = pd.DataFrame()\n",
    "    for col in period_df.columns:\n",
    "        return_series = percent_return(period_df[col])\n",
    "        period_return_df[col] = return_series\n",
    "    period_return_df.index = period_df.index\n",
    "    return_percent_df = round(period_return_df * 100, 2)\n",
    "    return return_percent_df\n",
    "\n",
    "quarter_return_df = percent_return_df(start_date=look_back_date, end_date=start_date, prices_df=asset_adj_close)\n",
    "\n",
    "ax = quarter_return_df.plot(grid=True, title='December 2007  to March 2008 Returns', figsize=(10,6))\n",
    "ax.set_ylabel('Return Percent')"
   ]
  },
  {
   "cell_type": "markdown",
   "metadata": {
    "pycharm": {
     "name": "#%% md\n"
    }
   },
   "source": [
    "<h3>\n",
    "ETF Rotation Algorithm\n",
    "</h3>\n",
    "\n",
    "<ol>\n",
    "<li>\n",
    "Create a DataFrame that constains adjusted close price for the the ETF universe and the\n",
    "cash ETF. This will be referred to as the asset DataFrame\n",
    "</li>\n",
    "<li>\n",
    "<p>\n",
    "Choose a start date that has three trading months of past data.\n",
    "</p>\n",
    "<p>\n",
    "From start date to the current date, stepping by one trading month\n",
    "</p>\n",
    "<ol>\n",
    "<li>\n",
    "Choose the asset with the highest return over the past three trading months\n",
    "from the asset DataFrame (e.g., an equity or the cash ETF).\n",
    "</li>\n",
    "<li>\n",
    "Calculate the daily return for the selected asset for one month forward from the start date.\n",
    "</li>\n",
    "<li>\n",
    "Calculate the daily return for one month forward from the start date for the bond asset.\n",
    "</li>\n",
    "<li>\n",
    "Apply the asset return to 60% of the current portfolio forward for one trading month\n",
    "</li>\n",
    "<li>\n",
    "Apply the bond return to 40% of the current portfolio forward for one trading month\n",
    "</li>\n",
    "<li>\n",
    "Add the two portfolio components to produce the total portfolio value for the month\n",
    "</li>\n",
    "<li>\n",
    "Concatenate the current portfolio total to the portfolio total series that\n",
    "will be used to plot the portfolio performance.\n",
    "</li>\n",
    "</ol>\n",
    "<li>\n",
    "Move the start date forward by one month of trading days\n",
    "</li>\n",
    "</li>\n",
    "</ol>\n",
    "<p>\n",
    "The result will be the portfolio total as a Series (with a date index).\n",
    "</p>"
   ]
  },
  {
   "cell_type": "code",
   "execution_count": 35,
   "metadata": {
    "jupyter": {
     "outputs_hidden": false
    },
    "pycharm": {
     "name": "#%%\n"
    }
   },
   "outputs": [
    {
     "ename": "ValueError",
     "evalue": "Length mismatch: Expected axis has 0 elements, new values have 1 elements",
     "output_type": "error",
     "traceback": [
      "\u001B[0;31m---------------------------------------------------------------------------\u001B[0m",
      "\u001B[0;31mValueError\u001B[0m                                Traceback (most recent call last)",
      "Input \u001B[0;32mIn [35]\u001B[0m, in \u001B[0;36m<module>\u001B[0;34m\u001B[0m\n\u001B[1;32m    111\u001B[0m     \u001B[38;5;28;01mreturn\u001B[39;00m some_date\n\u001B[1;32m    114\u001B[0m tlt \u001B[38;5;241m=\u001B[39m pd\u001B[38;5;241m.\u001B[39mDataFrame(fixed_income_adjclose[\u001B[38;5;124m'\u001B[39m\u001B[38;5;124mTLT\u001B[39m\u001B[38;5;124m'\u001B[39m])\n\u001B[0;32m--> 115\u001B[0m portfolio_df, assets_df \u001B[38;5;241m=\u001B[39m \u001B[43mportfolio_return\u001B[49m\u001B[43m(\u001B[49m\u001B[43mholdings\u001B[49m\u001B[38;5;241;43m=\u001B[39;49m\u001B[43mholdings\u001B[49m\u001B[43m,\u001B[49m\n\u001B[1;32m    116\u001B[0m \u001B[43m                                              \u001B[49m\u001B[43masset_percent\u001B[49m\u001B[38;5;241;43m=\u001B[39;49m\u001B[43mequity_percent\u001B[49m\u001B[43m,\u001B[49m\n\u001B[1;32m    117\u001B[0m \u001B[43m                                              \u001B[49m\u001B[43mbond_percent\u001B[49m\u001B[38;5;241;43m=\u001B[39;49m\u001B[43mbond_percent\u001B[49m\u001B[43m,\u001B[49m\n\u001B[1;32m    118\u001B[0m \u001B[43m                                              \u001B[49m\u001B[43masset_etfs\u001B[49m\u001B[38;5;241;43m=\u001B[39;49m\u001B[43masset_adj_close\u001B[49m\u001B[43m,\u001B[49m\n\u001B[1;32m    119\u001B[0m \u001B[43m                                              \u001B[49m\u001B[43mbond_etfs\u001B[49m\u001B[38;5;241;43m=\u001B[39;49m\u001B[43mtlt\u001B[49m\u001B[43m,\u001B[49m\n\u001B[1;32m    120\u001B[0m \u001B[43m                                              \u001B[49m\u001B[43mstart_date\u001B[49m\u001B[38;5;241;43m=\u001B[39;49m\u001B[43mstart_date\u001B[49m\u001B[43m,\u001B[49m\n\u001B[1;32m    121\u001B[0m \u001B[43m                                              \u001B[49m\u001B[43mend_date\u001B[49m\u001B[38;5;241;43m=\u001B[39;49m\u001B[43mend_date\u001B[49m\u001B[43m)\u001B[49m\n\u001B[1;32m    124\u001B[0m \u001B[38;5;28;01mdef\u001B[39;00m \u001B[38;5;21mbuild_plot_data\u001B[39m(holdings: \u001B[38;5;28mfloat\u001B[39m, portfolio_df: pd\u001B[38;5;241m.\u001B[39mDataFrame, spy_df: pd\u001B[38;5;241m.\u001B[39mDataFrame) \u001B[38;5;241m-\u001B[39m\u001B[38;5;241m>\u001B[39m pd\u001B[38;5;241m.\u001B[39mDataFrame:\n\u001B[1;32m    125\u001B[0m     port_start_date \u001B[38;5;241m=\u001B[39m portfolio_df\u001B[38;5;241m.\u001B[39mindex[\u001B[38;5;241m0\u001B[39m]\n",
      "Input \u001B[0;32mIn [35]\u001B[0m, in \u001B[0;36mportfolio_return\u001B[0;34m(holdings, asset_percent, bond_percent, asset_etfs, bond_etfs, start_date, end_date)\u001B[0m\n\u001B[1;32m     81\u001B[0m asset_month_prices_df \u001B[38;5;241m=\u001B[39m pd\u001B[38;5;241m.\u001B[39mDataFrame(asset_etfs[equity_asset][month_start_ix:month_end_ix \u001B[38;5;241m+\u001B[39m \u001B[38;5;241m1\u001B[39m])\n\u001B[1;32m     82\u001B[0m bond_month_prices_df \u001B[38;5;241m=\u001B[39m pd\u001B[38;5;241m.\u001B[39mDataFrame(bond_etfs[bond_asset][month_start_ix:month_end_ix \u001B[38;5;241m+\u001B[39m \u001B[38;5;241m1\u001B[39m])\n\u001B[0;32m---> 83\u001B[0m asset_month_return_df \u001B[38;5;241m=\u001B[39m \u001B[43mreturn_df\u001B[49m\u001B[43m(\u001B[49m\u001B[43masset_month_prices_df\u001B[49m\u001B[43m)\u001B[49m\n\u001B[1;32m     84\u001B[0m bond_month_return_df \u001B[38;5;241m=\u001B[39m return_df(bond_month_prices_df)\n\u001B[1;32m     85\u001B[0m asset_month_a \u001B[38;5;241m=\u001B[39m apply_return(asset_holdings, asset_month_return_df)\n",
      "Input \u001B[0;32mIn [35]\u001B[0m, in \u001B[0;36mreturn_df\u001B[0;34m(time_series_df)\u001B[0m\n\u001B[1;32m     10\u001B[0m date_index \u001B[38;5;241m=\u001B[39m time_series_df\u001B[38;5;241m.\u001B[39mindex\n\u001B[1;32m     11\u001B[0m r_df\u001B[38;5;241m.\u001B[39mindex \u001B[38;5;241m=\u001B[39m date_index[\u001B[38;5;241m1\u001B[39m:\u001B[38;5;28mlen\u001B[39m(date_index)]\n\u001B[0;32m---> 12\u001B[0m r_df\u001B[38;5;241m.\u001B[39mcolumns \u001B[38;5;241m=\u001B[39m time_series_df\u001B[38;5;241m.\u001B[39mcolumns\n\u001B[1;32m     13\u001B[0m \u001B[38;5;28;01mreturn\u001B[39;00m r_df\n",
      "File \u001B[0;32m~/workspace_finance/twelve_percent/venv/lib64/python3.9/site-packages/pandas/core/generic.py:5500\u001B[0m, in \u001B[0;36mNDFrame.__setattr__\u001B[0;34m(self, name, value)\u001B[0m\n\u001B[1;32m   5498\u001B[0m \u001B[38;5;28;01mtry\u001B[39;00m:\n\u001B[1;32m   5499\u001B[0m     \u001B[38;5;28mobject\u001B[39m\u001B[38;5;241m.\u001B[39m\u001B[38;5;21m__getattribute__\u001B[39m(\u001B[38;5;28mself\u001B[39m, name)\n\u001B[0;32m-> 5500\u001B[0m     \u001B[38;5;28;01mreturn\u001B[39;00m \u001B[38;5;28;43mobject\u001B[39;49m\u001B[38;5;241;43m.\u001B[39;49m\u001B[38;5;21;43m__setattr__\u001B[39;49m\u001B[43m(\u001B[49m\u001B[38;5;28;43mself\u001B[39;49m\u001B[43m,\u001B[49m\u001B[43m \u001B[49m\u001B[43mname\u001B[49m\u001B[43m,\u001B[49m\u001B[43m \u001B[49m\u001B[43mvalue\u001B[49m\u001B[43m)\u001B[49m\n\u001B[1;32m   5501\u001B[0m \u001B[38;5;28;01mexcept\u001B[39;00m \u001B[38;5;167;01mAttributeError\u001B[39;00m:\n\u001B[1;32m   5502\u001B[0m     \u001B[38;5;28;01mpass\u001B[39;00m\n",
      "File \u001B[0;32m~/workspace_finance/twelve_percent/venv/lib64/python3.9/site-packages/pandas/_libs/properties.pyx:70\u001B[0m, in \u001B[0;36mpandas._libs.properties.AxisProperty.__set__\u001B[0;34m()\u001B[0m\n",
      "File \u001B[0;32m~/workspace_finance/twelve_percent/venv/lib64/python3.9/site-packages/pandas/core/generic.py:766\u001B[0m, in \u001B[0;36mNDFrame._set_axis\u001B[0;34m(self, axis, labels)\u001B[0m\n\u001B[1;32m    764\u001B[0m \u001B[38;5;28;01mdef\u001B[39;00m \u001B[38;5;21m_set_axis\u001B[39m(\u001B[38;5;28mself\u001B[39m, axis: \u001B[38;5;28mint\u001B[39m, labels: Index) \u001B[38;5;241m-\u001B[39m\u001B[38;5;241m>\u001B[39m \u001B[38;5;28;01mNone\u001B[39;00m:\n\u001B[1;32m    765\u001B[0m     labels \u001B[38;5;241m=\u001B[39m ensure_index(labels)\n\u001B[0;32m--> 766\u001B[0m     \u001B[38;5;28;43mself\u001B[39;49m\u001B[38;5;241;43m.\u001B[39;49m\u001B[43m_mgr\u001B[49m\u001B[38;5;241;43m.\u001B[39;49m\u001B[43mset_axis\u001B[49m\u001B[43m(\u001B[49m\u001B[43maxis\u001B[49m\u001B[43m,\u001B[49m\u001B[43m \u001B[49m\u001B[43mlabels\u001B[49m\u001B[43m)\u001B[49m\n\u001B[1;32m    767\u001B[0m     \u001B[38;5;28mself\u001B[39m\u001B[38;5;241m.\u001B[39m_clear_item_cache()\n",
      "File \u001B[0;32m~/workspace_finance/twelve_percent/venv/lib64/python3.9/site-packages/pandas/core/internals/managers.py:216\u001B[0m, in \u001B[0;36mBaseBlockManager.set_axis\u001B[0;34m(self, axis, new_labels)\u001B[0m\n\u001B[1;32m    214\u001B[0m \u001B[38;5;28;01mdef\u001B[39;00m \u001B[38;5;21mset_axis\u001B[39m(\u001B[38;5;28mself\u001B[39m, axis: \u001B[38;5;28mint\u001B[39m, new_labels: Index) \u001B[38;5;241m-\u001B[39m\u001B[38;5;241m>\u001B[39m \u001B[38;5;28;01mNone\u001B[39;00m:\n\u001B[1;32m    215\u001B[0m     \u001B[38;5;66;03m# Caller is responsible for ensuring we have an Index object.\u001B[39;00m\n\u001B[0;32m--> 216\u001B[0m     \u001B[38;5;28;43mself\u001B[39;49m\u001B[38;5;241;43m.\u001B[39;49m\u001B[43m_validate_set_axis\u001B[49m\u001B[43m(\u001B[49m\u001B[43maxis\u001B[49m\u001B[43m,\u001B[49m\u001B[43m \u001B[49m\u001B[43mnew_labels\u001B[49m\u001B[43m)\u001B[49m\n\u001B[1;32m    217\u001B[0m     \u001B[38;5;28mself\u001B[39m\u001B[38;5;241m.\u001B[39maxes[axis] \u001B[38;5;241m=\u001B[39m new_labels\n",
      "File \u001B[0;32m~/workspace_finance/twelve_percent/venv/lib64/python3.9/site-packages/pandas/core/internals/base.py:57\u001B[0m, in \u001B[0;36mDataManager._validate_set_axis\u001B[0;34m(self, axis, new_labels)\u001B[0m\n\u001B[1;32m     54\u001B[0m     \u001B[38;5;28;01mpass\u001B[39;00m\n\u001B[1;32m     56\u001B[0m \u001B[38;5;28;01melif\u001B[39;00m new_len \u001B[38;5;241m!=\u001B[39m old_len:\n\u001B[0;32m---> 57\u001B[0m     \u001B[38;5;28;01mraise\u001B[39;00m \u001B[38;5;167;01mValueError\u001B[39;00m(\n\u001B[1;32m     58\u001B[0m         \u001B[38;5;124mf\u001B[39m\u001B[38;5;124m\"\u001B[39m\u001B[38;5;124mLength mismatch: Expected axis has \u001B[39m\u001B[38;5;132;01m{\u001B[39;00mold_len\u001B[38;5;132;01m}\u001B[39;00m\u001B[38;5;124m elements, new \u001B[39m\u001B[38;5;124m\"\u001B[39m\n\u001B[1;32m     59\u001B[0m         \u001B[38;5;124mf\u001B[39m\u001B[38;5;124m\"\u001B[39m\u001B[38;5;124mvalues have \u001B[39m\u001B[38;5;132;01m{\u001B[39;00mnew_len\u001B[38;5;132;01m}\u001B[39;00m\u001B[38;5;124m elements\u001B[39m\u001B[38;5;124m\"\u001B[39m\n\u001B[1;32m     60\u001B[0m     )\n",
      "\u001B[0;31mValueError\u001B[0m: Length mismatch: Expected axis has 0 elements, new values have 1 elements"
     ]
    }
   ],
   "source": [
    "def simple_return(time_series: np.array, period: int = 1) -> List :\n",
    "    return list(((time_series[i]/time_series[i-period]) - 1.0 for i in range(period, len(time_series), period)))\n",
    "\n",
    "\n",
    "def return_df(time_series_df: pd.DataFrame) -> pd.DataFrame:\n",
    "    r_df: pd.DataFrame = pd.DataFrame()\n",
    "    time_series_a: np.array = time_series_df.values\n",
    "    return_l = simple_return(time_series_a, 1)\n",
    "    r_df = pd.DataFrame(return_l)\n",
    "    date_index = time_series_df.index\n",
    "    r_df.index = date_index[1:len(date_index)]\n",
    "    r_df.columns = time_series_df.columns\n",
    "    return r_df\n",
    "\n",
    "\n",
    "def apply_return(start_val: float, return_df: pd.DataFrame) -> np.array:\n",
    "    port_a: np.array = np.zeros( return_df.shape[0] + 1)\n",
    "    port_a[0] = start_val\n",
    "    return_a = return_df.values\n",
    "    for i in range(1, len(port_a)):\n",
    "        port_a[i] = port_a[i-1] + port_a[i-1] * return_a[i-1]\n",
    "    return port_a\n",
    "\n",
    "\n",
    "def find_month_periods(start_date: datetime, end_date:datetime, data: pd.DataFrame) -> pd.DataFrame:\n",
    "    start_date = convert_date(start_date)\n",
    "    end_date = convert_date(end_date)\n",
    "    date_index = data.index\n",
    "    start_ix = findDateIndex(date_index, start_date)\n",
    "    end_ix = findDateIndex(date_index, end_date)\n",
    "    start_l = list()\n",
    "    end_l = list()\n",
    "    cur_month = start_date.month\n",
    "    start_l.append(start_ix)\n",
    "    i = 0\n",
    "    for i in range(start_ix, end_ix+1):\n",
    "        date_i = convert_date(date_index[i])\n",
    "        if date_i.month != cur_month:\n",
    "            end_l.append(i-1)\n",
    "            start_l.append(i)\n",
    "            cur_month = date_i.month\n",
    "    end_l.append(i)\n",
    "    start_df = pd.DataFrame(start_l)\n",
    "    end_df = pd.DataFrame(end_l)\n",
    "    start_date_df = pd.DataFrame(date_index[start_l])\n",
    "    end_date_df = pd.DataFrame(date_index[end_l])\n",
    "    periods_df = pd.concat([start_df, start_date_df, end_df, end_date_df], axis=1)\n",
    "    periods_df.columns = ['start_ix', 'start_date', 'end_ix', 'end_date']\n",
    "    return periods_df\n",
    "\n",
    "\n",
    "def portfolio_return(holdings: float,\n",
    "                     asset_percent: float,\n",
    "                     bond_percent: float,\n",
    "                     asset_etfs: pd.DataFrame,\n",
    "                     bond_etfs: pd.DataFrame,\n",
    "                     start_date: datetime,\n",
    "                     end_date: datetime) -> Tuple[pd.DataFrame, pd.DataFrame]:\n",
    "    assert asset_etfs.shape[0] == bond_etfs.shape[0]\n",
    "    periods_df = find_month_periods(start_date, end_date, asset_etfs)\n",
    "    back_delta = relativedelta(months=3)\n",
    "    date_index = asset_etfs.index\n",
    "    bond_asset_l = list()\n",
    "    equity_asset_l = list()\n",
    "    month_index_l = list()\n",
    "    portfolio_a = np.zeros(0)\n",
    "    for row in range(periods_df.shape[0]):\n",
    "        asset_holdings = holdings * asset_percent\n",
    "        bond_holdings = holdings * bond_percent\n",
    "        period_info = periods_df[:][row:row+1]\n",
    "        month_start_date = convert_date(period_info['start_date'].values[0])\n",
    "        back_start_date = month_start_date - back_delta\n",
    "        back_start_ix = findDateIndex(date_index, back_start_date)\n",
    "        month_start_ix = period_info['start_ix'].values[0]\n",
    "        month_end_ix = period_info['end_ix'].values[0]\n",
    "        equity_asset = chooseAssetName(start=back_start_ix, end=month_start_ix, asset_set=asset_etfs)\n",
    "        bond_asset = chooseAssetName(start=back_start_ix, end=month_start_ix, asset_set=bond_etfs)\n",
    "        equity_asset_l.append(equity_asset)\n",
    "        bond_asset_l.append(bond_asset)\n",
    "        month_index_l.append(month_start_date)\n",
    "        asset_month_prices_df = pd.DataFrame(asset_etfs[equity_asset][month_start_ix:month_end_ix + 1])\n",
    "        bond_month_prices_df = pd.DataFrame(bond_etfs[bond_asset][month_start_ix:month_end_ix + 1])\n",
    "        asset_month_return_df = return_df(asset_month_prices_df)\n",
    "        bond_month_return_df = return_df(bond_month_prices_df)\n",
    "        asset_month_a = apply_return(asset_holdings, asset_month_return_df)\n",
    "        bond_month_a = apply_return(bond_holdings, bond_month_return_df)\n",
    "        portfolio_total_a = asset_month_a + bond_month_a\n",
    "        holdings = portfolio_total_a[-1]\n",
    "        portfolio_a = np.append(portfolio_a, portfolio_total_a)\n",
    "    portfolio_df = pd.DataFrame(portfolio_a)\n",
    "    portfolio_df.columns = ['portfolio']\n",
    "    start_ix = findDateIndex(date_index, start_date)\n",
    "    end_ix = findDateIndex(date_index, end_date)\n",
    "    portfolio_index = date_index[start_ix:end_ix+1]\n",
    "    portfolio_df.index = portfolio_index\n",
    "    choices_df = pd.DataFrame()\n",
    "    choices_df['Equity'] = pd.DataFrame(equity_asset_l)\n",
    "    choices_df['Bond'] = pd.DataFrame(bond_asset_l)\n",
    "    choices_df.index = month_index_l\n",
    "    return portfolio_df, choices_df\n",
    "\n",
    "\n",
    "holdings = 100000\n",
    "equity_percent = 0.6\n",
    "bond_percent = 0.4\n",
    "\n",
    "\n",
    "def convert_date(some_date):\n",
    "    if type(some_date) == str:\n",
    "        some_date = datetime.fromisoformat(some_date)\n",
    "    return some_date\n",
    "\n",
    "\n",
    "tlt = pd.DataFrame(fixed_income_adjclose['TLT'])\n",
    "portfolio_df, assets_df = portfolio_return(holdings=holdings,\n",
    "                                              asset_percent=equity_percent,\n",
    "                                              bond_percent=bond_percent,\n",
    "                                              asset_etfs=asset_adj_close,\n",
    "                                              bond_etfs=tlt,\n",
    "                                              start_date=start_date,\n",
    "                                              end_date=end_date)\n",
    "\n",
    "\n",
    "def build_plot_data(holdings: float, portfolio_df: pd.DataFrame, spy_df: pd.DataFrame) -> pd.DataFrame:\n",
    "    port_start_date = portfolio_df.index[0]\n",
    "    port_start_date = convert_date(port_start_date)\n",
    "    port_end_date = portfolio_df.index[-1]\n",
    "    port_end_date = convert_date(port_end_date)\n",
    "    spy_index = spy_df.index\n",
    "    spy_start_ix = findDateIndex(spy_index, port_start_date)\n",
    "    spy_end_ix = findDateIndex(spy_index, port_end_date)\n",
    "    spy_df = pd.DataFrame(spy_df[:][spy_start_ix:spy_end_ix+1])\n",
    "    spy_return = return_df(spy_df)\n",
    "    spy_return_a = apply_return(start_val=holdings, return_df=spy_return)\n",
    "    spy_port = pd.DataFrame(spy_return_a)\n",
    "    spy_port.columns = ['SPY']\n",
    "    spy_port.index = spy_df.index\n",
    "    plot_df = portfolio_df.copy()\n",
    "    plot_df['SPY'] = spy_port\n",
    "    return plot_df\n",
    "\n",
    "\n",
    "def adjust_time_series(ts_one_df: pd.DataFrame, ts_two_df: pd.DataFrame) -> Tuple[pd.DataFrame, pd.DataFrame]:\n",
    "    \"\"\"\n",
    "    Adjust two DataFrame time series with overlapping date indices so that they\n",
    "    are the same length with the same date indices.\n",
    "    \"\"\"\n",
    "    ts_one_index = pd.to_datetime(ts_one_df.index)\n",
    "    ts_two_index = pd.to_datetime(ts_two_df.index)\n",
    "        # filter the close prices\n",
    "    matching_dates = ts_one_index.isin( ts_two_index )\n",
    "    ts_one_adj = ts_one_df[matching_dates]\n",
    "    # filter the rf_prices\n",
    "    ts_one_index = pd.to_datetime(ts_one_adj.index)\n",
    "    matching_dates = ts_two_index.isin(ts_one_index)\n",
    "    ts_two_adj = ts_two_df[matching_dates]\n",
    "    return ts_one_adj, ts_two_adj\n",
    "\n",
    "\n",
    "d2019_start = datetime.fromisoformat(\"2019-01-02\")\n",
    "d2019_end = datetime.fromisoformat(\"2019-12-31\")\n",
    "\n",
    "#\n",
    "# Test for build_plot_data to make sure that the SPY component is handled correctly.\n",
    "#\n",
    "spy_unadj = pd.DataFrame(asset_adj_close['SPY'])\n",
    "start_ix = findDateIndex(spy_unadj.index, d2019_start)\n",
    "end_ix = findDateIndex(spy_unadj.index, d2019_end)\n",
    "start_val = spy_unadj[spy_unadj.columns[0]].values[start_ix]\n",
    "spy_section = pd.DataFrame(spy_unadj[spy_unadj.columns[0]][start_ix:end_ix+1])\n",
    "spy_section.columns = ['portfolio']\n",
    "plot_df = build_plot_data(start_val, spy_section, spy_unadj)\n",
    "portfolio_a = plot_df[plot_df.columns[0]].values\n",
    "spy_a = plot_df[plot_df.columns[1]].values\n",
    "assert all( np.round(portfolio_a, 2) == np.round(spy_a, 2) )\n",
    "#\n",
    "# End test\n",
    "#\n",
    "\n",
    "spy_df = pd.DataFrame(equity_adj_close['SPY'])\n",
    "spy_df, portfolio_df = adjust_time_series(spy_df, portfolio_df)\n",
    "plot_df = build_plot_data(holdings, portfolio_df, spy_df)"
   ]
  },
  {
   "cell_type": "markdown",
   "metadata": {
    "pycharm": {
     "name": "#%% md\n"
    }
   },
   "source": [
    "<h3>\n",
    "Portfolio Results (without bond rotation)\n",
    "</h3>\n",
    "\n",
    "<p>\n",
    "The plot below shows the results of the ETF rotation portfolio composed of 60% equity\n",
    "and 40% bonds, where the equity portion is composed of an equity or \"cash\" ETF.\n",
    "The bond portion, in this case, is always TLT.\n",
    "</p>\n",
    "<p>\n",
    "The author of <i>The 12% Solution</i> notes that the ETF rotation portfolio has better\n",
    "performance than the S&P 500 (e.g., the SPY ETF) for a ten year period from 2008 to 2017.\n",
    "This changes after 2018.\n",
    "</p>"
   ]
  },
  {
   "cell_type": "code",
   "execution_count": null,
   "metadata": {
    "pycharm": {
     "name": "#%%\n"
    },
    "tags": []
   },
   "outputs": [],
   "source": [
    "plot_df.plot(grid=True, title='Portfolio (TLT bond only) and SPY', figsize=(10,6))\n",
    "\n",
    "trading_days = 252\n",
    "\n",
    "spy_return = return_df(spy_df)\n",
    "port_return = return_df(portfolio_df)\n",
    "spy_volatility = round(spy_return.values.std() * sqrt(trading_days) * 100, 2)\n",
    "port_volatility = round(port_return.values.std() * sqrt(trading_days) * 100, 2)\n",
    "\n",
    "vol_df = pd.DataFrame([port_volatility, spy_volatility])\n",
    "vol_df.columns = ['Yearly Standard Deviation (percent)']\n",
    "vol_df.index = ['Portfolio', 'SPY']"
   ]
  },
  {
   "cell_type": "markdown",
   "metadata": {
    "pycharm": {
     "name": "#%% md\n"
    },
    "tags": []
   },
   "source": [
    "The volatility (risk) of the ETF selection portfolio is significantly less than the\n",
    "SPY ETF which tracks the S&P 500."
   ]
  },
  {
   "cell_type": "code",
   "execution_count": null,
   "metadata": {
    "jupyter": {
     "outputs_hidden": false
    },
    "pycharm": {
     "name": "#%%\n"
    }
   },
   "outputs": [],
   "source": [
    "print(tabulate(vol_df, headers=[*vol_df.columns], tablefmt='fancy_grid'))\n",
    "\n",
    "\n",
    "def excess_return_series(asset_return: pd.Series, risk_free: pd.Series) -> pd.DataFrame:\n",
    "    excess_ret = asset_return.values.flatten() - risk_free.values.flatten()\n",
    "    excess_ret_df = pd.DataFrame(excess_ret, index=asset_return.index)\n",
    "    return excess_ret_df\n",
    "\n",
    "\n",
    "def excess_return_df(asset_return: pd.DataFrame, risk_free: pd.Series) -> pd.DataFrame:\n",
    "    excess_df: pd.DataFrame = pd.DataFrame()\n",
    "    for col in asset_return.columns:\n",
    "        e_df = excess_return_series(asset_return[col], risk_free)\n",
    "        e_df.columns = [col]\n",
    "        excess_df[col] = e_df\n",
    "    return excess_df\n",
    "\n",
    "def calc_sharpe_ratio(asset_return: pd.DataFrame, risk_free: pd.Series, period: int) -> pd.DataFrame:\n",
    "    excess_return = excess_return_df(asset_return, risk_free)\n",
    "    return_mean: List = []\n",
    "    return_stddev: List = []\n",
    "    for col in excess_return.columns:\n",
    "        mu = np.mean(excess_return[col])\n",
    "        std = np.std(excess_return[col])\n",
    "        return_mean.append(mu)\n",
    "        return_stddev.append(std)\n",
    "    # daily Sharpe ratio\n",
    "    # https://quant.stackexchange.com/questions/2260/how-to-annualize-sharpe-ratio\n",
    "    sharpe_ratio = (np.asarray(return_mean) / np.asarray(return_stddev)) * np.sqrt(period)\n",
    "    result_df: pd.DataFrame = pd.DataFrame(sharpe_ratio).transpose()\n",
    "    result_df.columns = asset_return.columns\n",
    "    ix = asset_return.index\n",
    "    dateformat = '%Y-%m-%d'\n",
    "    ix_start = ix[0]\n",
    "    if type(ix_start) != str:\n",
    "        ix_start = datetime.strptime(ix_start, dateformat).date()\n",
    "    ix_end = ix[len(ix)-1]\n",
    "    if type(ix_end) != str:\n",
    "         ix_end = datetime.strptime(ix_end, dateformat).date()\n",
    "    index_str = f'{ix_start} : {ix_end}'\n",
    "    result_df.index = [ index_str ]\n",
    "    return result_df\n",
    "\n",
    "\n",
    "# Interest rates are quoted for the days when banks are open. The number of bank open days is less than\n",
    "# the number of trading days. Adjust the portfolio_return series and the interest rate series so that they\n",
    "# align.\n",
    "rf_daily_adj, portfolio_return_adj = adjust_time_series(rf_daily_df, port_return)\n",
    "spy_return_adj, t = adjust_time_series(spy_return, rf_daily_adj)\n",
    "\n",
    "rf_daily_s = rf_daily_adj.squeeze()\n",
    "\n",
    "portfolio_sharpe = calc_sharpe_ratio(portfolio_return_adj, rf_daily_s, trading_days)\n",
    "spy_sharpe = calc_sharpe_ratio(spy_return_adj, rf_daily_s, trading_days)\n",
    "\n",
    "sharpe_df = pd.concat([portfolio_sharpe, spy_sharpe], axis=1)"
   ]
  },
  {
   "cell_type": "markdown",
   "metadata": {
    "pycharm": {
     "name": "#%% md\n"
    }
   },
   "source": [
    "<h3>\n",
    "Sharpe Ratio\n",
    "</h3>\n",
    "\n",
    "<p>\n",
    "The yearly Sharpe ratio for the ETF rotation portfolio and SPY is shown below.\n",
    "</p>"
   ]
  },
  {
   "cell_type": "code",
   "execution_count": null,
   "metadata": {
    "jupyter": {
     "outputs_hidden": false
    },
    "pycharm": {
     "name": "#%%\n"
    }
   },
   "outputs": [],
   "source": [
    "print(tabulate(sharpe_df, headers=[*sharpe_df.columns], tablefmt='fancy_grid'))"
   ]
  },
  {
   "cell_type": "markdown",
   "metadata": {},
   "source": [
    "<h3>\n",
    "Portfolio Return\n",
    "</h3>"
   ]
  },
  {
   "cell_type": "code",
   "execution_count": null,
   "metadata": {
    "jupyter": {
     "outputs_hidden": false
    },
    "pycharm": {
     "name": "#%%\n"
    }
   },
   "outputs": [],
   "source": [
    "def period_return(portfolio_df: pd.DataFrame, period: int) -> pd.DataFrame:\n",
    "    date_index = portfolio_df.index\n",
    "    values_a = portfolio_df.values\n",
    "    date_list = list()\n",
    "    return_list = list()\n",
    "    for i in range(period, len(values_a), period):\n",
    "        r = (values_a[i]/values_a[i-period]) - 1\n",
    "        d = date_index[i]\n",
    "        return_list.append(r)\n",
    "        date_list.append(d)\n",
    "    return_df = pd.DataFrame(return_list)\n",
    "    return_df.index = date_list\n",
    "    return return_df\n",
    "\n",
    "\n",
    "period_return_df = period_return(portfolio_df=portfolio_df, period=trading_days)\n",
    "spy_period_return_df = period_return(portfolio_df=spy_df, period=trading_days)\n",
    "portfolio_spy_return_df = pd.concat([period_return_df, spy_period_return_df], axis=1)\n",
    "portfolio_spy_return_df.columns = ['ETF Rotation', 'SPY']\n",
    "portfolio_spy_return_df = round(portfolio_spy_return_df * 100, 2)"
   ]
  },
  {
   "cell_type": "markdown",
   "metadata": {
    "pycharm": {
     "name": "#%% md\n"
    }
   },
   "source": [
    "<h3>\n",
    "Percentage return for the ETF Rotation Portfolio and SPY\n",
    "</h3>"
   ]
  },
  {
   "cell_type": "code",
   "execution_count": null,
   "metadata": {
    "jupyter": {
     "outputs_hidden": false
    },
    "pycharm": {
     "name": "#%%\n"
    }
   },
   "outputs": [],
   "source": [
    "print(tabulate(portfolio_spy_return_df, headers=[*portfolio_spy_return_df.columns], tablefmt='fancy_grid'))\n",
    "\n",
    "average_return_df = pd.DataFrame(portfolio_spy_return_df.mean()).transpose()"
   ]
  },
  {
   "cell_type": "markdown",
   "metadata": {
    "pycharm": {
     "name": "#%% md\n"
    }
   },
   "source": [
    "<h3>\n",
    "Average Return (percent)\n",
    "</h3>"
   ]
  },
  {
   "cell_type": "code",
   "execution_count": null,
   "metadata": {
    "jupyter": {
     "outputs_hidden": false
    },
    "pycharm": {
     "name": "#%%\n"
    }
   },
   "outputs": [],
   "source": [
    "print(tabulate(average_return_df, headers=[*average_return_df.columns], tablefmt='fancy_grid'))"
   ]
  },
  {
   "cell_type": "markdown",
   "metadata": {
    "pycharm": {
     "name": "#%% md\n"
    }
   },
   "source": [
    "<h3>\n",
    "Rebalancing\n",
    "</h3>\n",
    "\n",
    "<p>\n",
    "This portfolio starts out with 60% of the portfolio in equity ETFs or the cash ETF and\n",
    "40% in one or more bond ETFs.  If the portfolio were not rebalanced, over time\n",
    "the portion of the portfolio allocated to equity ETFs (and cash) would drift upward,\n",
    "since equities usually grow faster than bonds.\n",
    "</p>\n",
    "<p>\n",
    "By default, the portfolio is rebalanced monthly as each ETF is chosen.\n",
    "In the <i><a href=\"https://github.com/IanLKaplan/all_weather_portfolio\">All Weather Portfolio</a></i>\n",
    "rebalancing the portfolio every year results in better portfolio results compared\n",
    "to rebalancing monthly or quarterly.\n",
    "</p>\n",
    "<p>\n",
    "In the case of the <i>12% Solution</i> portfolio, rebalancing yearly only resulted\n",
    "in a small improvement in portfolio results (e.g., 9.8% average return vs. 9.7%\n",
    "average return).\n",
    "</p>\n",
    "<p>\n",
    "If an ETF is selected for two or more months, there is no need to rebalance\n",
    "and that portion of the portfolio can be left without change.\n",
    "</p>"
   ]
  },
  {
   "cell_type": "code",
   "execution_count": null,
   "metadata": {
    "jupyter": {
     "outputs_hidden": false
    },
    "pycharm": {
     "name": "#%%\n"
    }
   },
   "outputs": [],
   "source": [
    "portfolio_df, assets_df = portfolio_return(holdings=holdings,\n",
    "                                              asset_percent=equity_percent,\n",
    "                                              bond_percent=bond_percent,\n",
    "                                              asset_etfs=asset_adj_close,\n",
    "                                              bond_etfs=fixed_income_adjclose,\n",
    "                                              start_date=start_date,\n",
    "                                              end_date=end_date)\n",
    "\n",
    "plot_df = build_plot_data(holdings, portfolio_df, spy_df)\n"
   ]
  },
  {
   "cell_type": "markdown",
   "metadata": {},
   "source": [
    "<h3>\n",
    "Adding in Bond Rotation\n",
    "</h3>\n",
    "\n",
    "<p>\n",
    "In the back-test so far the bond portion of the portfolio is always TLT (as is the\n",
    "case in the first part of <i>The 12% Solution</i>).  In this section bond rotation\n",
    "is added to choose between TLT and JNK (again, following <i>The 12% Solution</i>).\n",
    "</p>\n",
    "<p>\n",
    "The plot below shows the performance of the ETF rotation portfolio, with bond rotation\n",
    "(TLT and JNK).\n",
    "</p>"
   ]
  },
  {
   "cell_type": "code",
   "execution_count": null,
   "metadata": {
    "jupyter": {
     "outputs_hidden": false
    },
    "pycharm": {
     "name": "#%%\n"
    }
   },
   "outputs": [],
   "source": [
    "plot_df.plot(grid=True, title='Portfolio (TLT and JNK bond rotation) and SPY', figsize=(10,6))"
   ]
  },
  {
   "cell_type": "markdown",
   "metadata": {
    "pycharm": {
     "name": "#%% md\n"
    }
   },
   "source": [
    "<h3>\n",
    "Standard Deviation and Sharpe Ratio\n",
    "</h3>\n",
    "\n",
    "<p>\n",
    "The addition of bond ETF rotatoin slightly increased the standard deviation, which\n",
    "resulted in a slight decrease in the Sharpe ratio.\n",
    "</p>"
   ]
  },
  {
   "cell_type": "code",
   "execution_count": null,
   "metadata": {
    "jupyter": {
     "outputs_hidden": false
    },
    "pycharm": {
     "name": "#%%\n"
    }
   },
   "outputs": [],
   "source": [
    "port_return = return_df(portfolio_df)\n",
    "port_volatility = round(port_return.values.std() * sqrt(trading_days) * 100, 2)\n",
    "\n",
    "vol_df = pd.DataFrame([port_volatility, spy_volatility])\n",
    "vol_df.columns = ['Yearly Standard Deviation (percent)']\n",
    "vol_df.index = ['Portfolio', 'SPY']\n",
    "\n",
    "print(tabulate(vol_df, headers=[*vol_df.columns], tablefmt='fancy_grid'))\n",
    "\n",
    "rf_daily_adj, portfolio_return_adj = adjust_time_series(rf_daily_df, port_return)\n",
    "portfolio_sharpe = calc_sharpe_ratio(portfolio_return_adj, rf_daily_s, trading_days)\n",
    "sharpe_df = pd.concat([portfolio_sharpe, spy_sharpe], axis=1)\n",
    "print(\"Sharpe Ratio:\")\n",
    "print(tabulate(sharpe_df, headers=[*sharpe_df.columns], tablefmt='fancy_grid'))"
   ]
  },
  {
   "cell_type": "markdown",
   "metadata": {
    "pycharm": {
     "name": "#%% md\n"
    }
   },
   "source": [
    "<p>\n",
    "Adding ETF rotation to the bond portion of the portfolio results in performance that is\n",
    "close to the S&P 500 with half the volatility (risk).\n",
    "</p>\n",
    "<p>\n",
    "The table below shows the yearly percentage returns for the portfolio without bond\n",
    "ETF rotation, the portfolio with bond ETF rotation and SPY (S&P 500).\n",
    "</p>"
   ]
  },
  {
   "cell_type": "code",
   "execution_count": null,
   "metadata": {
    "jupyter": {
     "outputs_hidden": false
    },
    "pycharm": {
     "name": "#%%\n"
    }
   },
   "outputs": [],
   "source": [
    "period_return_bond_df = period_return(portfolio_df=portfolio_df, period=trading_days)\n",
    "portfolio_spy_return_df = pd.concat([period_return_df, period_return_bond_df, spy_period_return_df], axis=1)\n",
    "portfolio_spy_return_df.columns = ['ETF Rotation','ETF Rotation (bond)', 'SPY']\n",
    "portfolio_spy_return_df = round(portfolio_spy_return_df * 100, 2)\n",
    "\n",
    "print(tabulate(portfolio_spy_return_df, headers=[*portfolio_spy_return_df.columns], tablefmt='fancy_grid'))\n",
    "\n",
    "average_return_df = pd.DataFrame(portfolio_spy_return_df.mean()).transpose()"
   ]
  },
  {
   "cell_type": "markdown",
   "metadata": {},
   "source": [
    "<h3>\n",
    "Average Return (percent) ETF Rotation, including bond rotation\n",
    "</h3>\n",
    "<p>\n",
    "The book <i>The 12% Solution</i> is named for the 12% average yearly return from the\n",
    "ETF rotation portfolio that includes bond rotation.  The book did not include recent\n",
    "market period that has been affected by market volatility from COVID and the Russian\n",
    "attack on the Ukraine.\n",
    "</p>"
   ]
  },
  {
   "cell_type": "code",
   "execution_count": null,
   "metadata": {
    "jupyter": {
     "outputs_hidden": false
    },
    "pycharm": {
     "name": "#%%\n"
    }
   },
   "outputs": [],
   "source": [
    "print(tabulate(average_return_df, headers=[*average_return_df.columns], tablefmt='fancy_grid'))"
   ]
  },
  {
   "cell_type": "markdown",
   "metadata": {
    "pycharm": {
     "name": "#%% md\n"
    }
   },
   "source": [
    "\n",
    "<h3>\n",
    "Notebook results and <i>12% Solution Results</i>\n",
    "</h3>\n",
    "<p>\n",
    "Although the overall portfolio return is close to the return reported in <i>The 12%\n",
    "Solution</i>, I have been unable to exactly reproduce the results reported in the book\n",
    "and on the trendlineprofits.com web site. The difference in results may be\n",
    "due to different asset selection.\n",
    "</p>\n",
    "<p>\n",
    "For example, the portfolio asset selected in May of 2008 by the notebook code is QQQ.\n",
    "This asset is selected by choosing the asset with the highest return in the set\n",
    "IWM, MDY, QQQ, SPY and SHY.  The asset shown on the trendlineprofits.com web site\n",
    "for May of 2008 is MDY. The notebook lookback period used by the notebook is\n",
    "Feb 1, 2008 to May 2, 2008 (2008-02-01 to 2008-05-02).\n",
    "</p>\n",
    "<p>\n",
    "Looking at this period using stockcharts.com it looks like QQQ is the right choice for this\n",
    "period, so it is not clear that there is an error in the notebook code.\n",
    "</p>\n",
    "<p>\n",
    "The results over the full 14-year time period appear to be close to those reported on\n",
    "trendlineprofits.com.  The results for three and five year past periods differ\n",
    "fairly dramaticly from those reported on trendlineprofits.com.  The trendlineprofits.com\n",
    "show a portfolio that closely follows SPY.  This is not the case for the portfolios\n",
    "calculated in the notebook.\n",
    "</p>"
   ]
  },
  {
   "cell_type": "code",
   "execution_count": null,
   "outputs": [],
   "source": [
    "five_year_start = datetime.fromisoformat('2017-01-03')\n",
    "three_year_start = datetime.fromisoformat('2019-01-02')\n",
    "# end_date is today minus one day\n",
    "\n",
    "five_year_portfolio_df, assets_df = portfolio_return(holdings=holdings,\n",
    "                                              asset_percent=equity_percent,\n",
    "                                              bond_percent=bond_percent,\n",
    "                                              asset_etfs=asset_adj_close,\n",
    "                                              bond_etfs=fixed_income_adjclose,\n",
    "                                              start_date=five_year_start,\n",
    "                                              end_date=end_date)\n",
    "\n",
    "plot_df = build_plot_data(holdings, five_year_portfolio_df, spy_df)"
   ],
   "metadata": {
    "collapsed": false,
    "pycharm": {
     "name": "#%%\n"
    }
   }
  },
  {
   "cell_type": "markdown",
   "source": [
    "<h4>\n",
    "Past Five Years\n",
    "</h4>"
   ],
   "metadata": {
    "collapsed": false,
    "pycharm": {
     "name": "#%% md\n"
    }
   }
  },
  {
   "cell_type": "code",
   "execution_count": null,
   "outputs": [],
   "source": [
    "plot_df.plot(grid=True, title=f'5-years: {five_year_start.strftime(\"%m/%d/%Y\")} - {end_date.strftime(\"%m/%d/%Y\")} and SPY', figsize=(10,6))\n",
    "\n",
    "three_year_portfolio_df, assets_df = portfolio_return(holdings=holdings,\n",
    "                                              asset_percent=equity_percent,\n",
    "                                              bond_percent=bond_percent,\n",
    "                                              asset_etfs=asset_adj_close,\n",
    "                                              bond_etfs=fixed_income_adjclose,\n",
    "                                              start_date=three_year_start,\n",
    "                                              end_date=end_date)\n",
    "\n",
    "plot_df = build_plot_data(holdings, three_year_portfolio_df, spy_df)"
   ],
   "metadata": {
    "collapsed": false,
    "pycharm": {
     "name": "#%%\n"
    }
   }
  },
  {
   "cell_type": "markdown",
   "source": [
    "<h4>\n",
    "Past Three Years\n",
    "</h4>"
   ],
   "metadata": {
    "collapsed": false
   }
  },
  {
   "cell_type": "code",
   "execution_count": null,
   "outputs": [],
   "source": [
    "plot_df.plot(grid=True, title=f'3-years: {three_year_start.strftime(\"%m/%d/%Y\")} - {end_date.strftime(\"%m/%d/%Y\")} and SPY', figsize=(10,6))"
   ],
   "metadata": {
    "collapsed": false,
    "pycharm": {
     "name": "#%%\n"
    }
   }
  },
  {
   "cell_type": "markdown",
   "source": [
    "<h2>\n",
    "Difference Between Notebook and trendlineprofits.com\n",
    "</h2>\n",
    "<h3>\n",
    "Performance for 2019\n",
    "</h3>\n",
    "\n",
    "<p>\n",
    "In this section I try to track down the difference between the results published\n",
    "on trendlineprofits.com and this notebook.  This section looks at the results for\n",
    "one year, 2019.\n",
    "</p>\n",
    "<p>\n",
    "The plot below shows the results for the ETF rotation portfolio (with bond rotation)\n",
    "for 2019.\n",
    "</p>"
   ],
   "metadata": {
    "collapsed": false,
    "pycharm": {
     "name": "#%% md\n"
    }
   }
  },
  {
   "cell_type": "code",
   "execution_count": null,
   "outputs": [],
   "source": [
    "d2019_portfolio_df, d2019_assets_df = portfolio_return(holdings=holdings,\n",
    "                                              asset_percent=equity_percent,\n",
    "                                              bond_percent=bond_percent,\n",
    "                                              asset_etfs=asset_adj_close,\n",
    "                                              bond_etfs=fixed_income_adjclose,\n",
    "                                              start_date=d2019_start,\n",
    "                                              end_date=d2019_end)\n",
    "\n",
    "plot_df = build_plot_data(holdings, d2019_portfolio_df, spy_df)\n",
    "plot_df.plot(grid=True, title=f'2019: {d2019_start.strftime(\"%m/%d/%Y\")} - {d2019_end.strftime(\"%m/%d/%Y\")} and SPY', figsize=(10,6))\n",
    "\n",
    "spy_unadj = pd.DataFrame(asset_adj_close['SPY'])\n",
    "\n",
    "spyonly_df, t = portfolio_return(holdings=holdings,\n",
    "                                              asset_percent=equity_percent,\n",
    "                                              bond_percent=bond_percent,\n",
    "                                              asset_etfs=spy_unadj,\n",
    "                                              bond_etfs=spy_unadj,\n",
    "                                              start_date=d2019_start,\n",
    "                                              end_date=d2019_end)\n",
    "\n",
    "plot_df = build_plot_data(holdings, spyonly_df, spy_unadj)\n",
    "plot_df.plot(grid=True, title='SPY Only', figsize=(10,6))"
   ],
   "metadata": {
    "collapsed": false,
    "pycharm": {
     "name": "#%%\n"
    }
   }
  },
  {
   "cell_type": "markdown",
   "source": [
    "<h4>\n",
    "2019 Assets\n",
    "</h4>\n",
    "\n",
    "<p>\n",
    "One difference between the notebook results and the trendlineprofits.com results\n",
    "are the ETF assets that are selected.\n",
    "</p>\n",
    "<p>\n",
    "To briefly review the ETF rotation algorithm:\n",
    "</p>\n",
    "<ol>\n",
    "<li>\n",
    "An ETF is selected for the current month.  This is done by looking back over the past\n",
    "three months and selecting the ETF with the highest return.\n",
    "</li>\n",
    "<li>\n",
    "The return for the ETF becomes the return for the ETF section of the portfolio.\n",
    "</li>\n",
    "</ol>\n",
    "<p>\n",
    "The plots below show percentage returns for the lookback period.  The ETF that is\n",
    "selected by the notebook code is listed in the plot title.  This is the ETF that\n",
    "is used for the \"current\" month which starts at the end of the look back period.\n",
    "</p>\n",
    "<p>\n",
    "The ETF that is selected listed on the Trendline web site for the period is\n",
    "shown in the title. Only the plots where the Trendline and notebook selectoin differ\n",
    "are shown.\n",
    "</p>"
   ],
   "metadata": {
    "collapsed": false,
    "pycharm": {
     "name": "#%% md\n"
    }
   }
  },
  {
   "cell_type": "code",
   "execution_count": null,
   "outputs": [],
   "source": [
    "trendline_assets = ['SHY', # 1\n",
    "                    'QQQ', # 2\n",
    "                    'QQQ', # 3\n",
    "                    'QQQ', # 4\n",
    "                    'QQQ', # 5\n",
    "                    'QQQ', # 6\n",
    "                    'SHY', # 7\n",
    "                    'SPY', # 8\n",
    "                    'QQQ', # 9\n",
    "                    'SPY', # 10\n",
    "                    'QQQ', # 11\n",
    "                    'QQQ' # 12\n",
    "                    ]\n",
    "\n",
    "trendline_df = pd.DataFrame(trendline_assets)\n",
    "trendline_df.index = d2019_assets_df.index\n",
    "d2019_assets_df['trendline'] = trendline_df\n",
    "d2019_assets_df.drop(d2019_assets_df.columns[1], inplace=True, axis=1)\n",
    "print(tabulate(d2019_assets_df, headers=['Equity ETFs', 'Trendline ETFs'], tablefmt='fancy_grid'))\n",
    "\n",
    "\n",
    "def display_asset_selection(month_start: str, prices_df: pd.DataFrame) -> None:\n",
    "    look_back_end = datetime.fromisoformat(month_start)\n",
    "    look_back_start = look_back_end - relativedelta(months=3)\n",
    "    date_index = prices_df.index\n",
    "    start_ix = findDateIndex(date_index, look_back_start)\n",
    "    end_ix = findDateIndex(date_index, look_back_end)\n",
    "    name = chooseAssetName(start_ix, end_ix, prices_df)\n",
    "    period_return_df = percent_return_df(start_date=look_back_start,\n",
    "                                         end_date=look_back_end,\n",
    "                                         prices_df=prices_df)\n",
    "    title_str =f'{look_back_start.strftime(\"%m/%d/%Y\")} - {look_back_end.strftime(\"%m/%d/%Y\")} asset {name}'\n",
    "    ax = period_return_df.plot(grid=True, title=title_str, figsize=(10,6))\n",
    "    ax.set_ylabel('Return Percent')\n"
   ],
   "metadata": {
    "collapsed": false,
    "pycharm": {
     "name": "#%%\n"
    }
   }
  },
  {
   "cell_type": "markdown",
   "source": [
    "<h4>\n",
    "Trendline selects QQQ\n",
    "</h4>"
   ],
   "metadata": {
    "collapsed": false
   }
  },
  {
   "cell_type": "code",
   "execution_count": null,
   "outputs": [],
   "source": [
    "display_asset_selection('2019-02-01', asset_adj_close)"
   ],
   "metadata": {
    "collapsed": false,
    "pycharm": {
     "name": "#%%\n"
    }
   }
  },
  {
   "cell_type": "markdown",
   "source": [
    "<h4>\n",
    "Trendline selects QQQ\n",
    "</h4>"
   ],
   "metadata": {
    "collapsed": false
   }
  },
  {
   "cell_type": "code",
   "execution_count": null,
   "outputs": [],
   "source": [
    "display_asset_selection('2019-03-01', asset_adj_close)\n"
   ],
   "metadata": {
    "collapsed": false,
    "pycharm": {
     "name": "#%%\n"
    }
   }
  },
  {
   "cell_type": "markdown",
   "source": [
    "<h4>\n",
    "Trendline selects QQQ\n",
    "</h4>"
   ],
   "metadata": {
    "collapsed": false
   }
  },
  {
   "cell_type": "code",
   "execution_count": null,
   "outputs": [],
   "source": [
    "display_asset_selection('2019-06-01', asset_adj_close)"
   ],
   "metadata": {
    "collapsed": false,
    "pycharm": {
     "name": "#%%\n"
    }
   }
  },
  {
   "cell_type": "markdown",
   "source": [
    "<h4>\n",
    "Trendline selects SHY\n",
    "</h4>"
   ],
   "metadata": {
    "collapsed": false
   }
  },
  {
   "cell_type": "code",
   "execution_count": null,
   "outputs": [],
   "source": [
    "display_asset_selection('2019-07-01', asset_adj_close)"
   ],
   "metadata": {
    "collapsed": false,
    "pycharm": {
     "name": "#%%\n"
    }
   }
  },
  {
   "cell_type": "markdown",
   "source": [
    "<h4>\n",
    "Trendline selects SHY\n",
    "</h4>"
   ],
   "metadata": {
    "collapsed": false
   }
  },
  {
   "cell_type": "code",
   "execution_count": null,
   "outputs": [],
   "source": [
    "display_asset_selection('2019-08-01', asset_adj_close)\n",
    "\n"
   ],
   "metadata": {
    "collapsed": false,
    "pycharm": {
     "name": "#%%\n"
    }
   }
  },
  {
   "cell_type": "markdown",
   "source": [
    "<h4>\n",
    "Trendline selects SPY\n",
    "</h4>"
   ],
   "metadata": {
    "collapsed": false
   }
  },
  {
   "cell_type": "code",
   "execution_count": null,
   "outputs": [],
   "source": [
    "display_asset_selection('2019-10-01', asset_adj_close)"
   ],
   "metadata": {
    "collapsed": false,
    "pycharm": {
     "name": "#%%\n"
    }
   }
  },
  {
   "cell_type": "markdown",
   "source": [
    "<p>\n",
    "The plots show that if the backward looking period differs by a few days, a different\n",
    "ETF would be selected. The differences between the notebook results and the\n",
    "Trendline results could be a result of slightly different periods.\n",
    "</p>\n",
    "<p>\n",
    "Short term market prices contain significant noise (returns that are normally distributed).\n",
    "This is reflected in the ETF selection.\n",
    "</p>\n",
    "\n",
    "<h3>\n",
    "Adding SHY as a Bond Option\n",
    "</h3>\n",
    "\n",
    "<p>\n",
    "In the question and answer section of the <i>12% Solution</i> the author is asked whether\n",
    "adding SHY (the cash proxy ETF) might produce better results. He writes that in the back\n",
    "tests adding SHY did not improve the results. However, the books results end around 2018,\n",
    "before COVID and the Russian invasion of the Ukraine.  This section looks at whether\n",
    "in this later period adding SHY to the bond set might produce better results.\n",
    "</p>"
   ],
   "metadata": {
    "collapsed": false,
    "pycharm": {
     "name": "#%% md\n"
    }
   }
  },
  {
   "cell_type": "code",
   "execution_count": null,
   "metadata": {
    "pycharm": {
     "name": "#%%\n"
    }
   },
   "outputs": [],
   "source": [
    "fixed_income_plus_shy = pd.concat([fixed_income_adjclose, shy_adj_close], axis=1)\n",
    "portfolio_bond_plus_shy_df, assets_df = portfolio_return(holdings=holdings,\n",
    "                                              asset_percent=equity_percent,\n",
    "                                              bond_percent=bond_percent,\n",
    "                                              asset_etfs=asset_adj_close,\n",
    "                                              bond_etfs=fixed_income_plus_shy,\n",
    "                                              start_date=start_date,\n",
    "                                              end_date=end_date)\n",
    "\n",
    "plot_df = build_plot_data(holdings, portfolio_bond_plus_shy_df, spy_df)"
   ]
  },
  {
   "cell_type": "markdown",
   "metadata": {
    "pycharm": {
     "name": "#%% md\n"
    }
   },
   "source": [
    "<p>\n",
    "As reported in <i>The 12% Solution</i> including SHY in the bond set results in\n",
    "slightly worse portfolio performance.\n",
    "</p>"
   ]
  },
  {
   "cell_type": "code",
   "execution_count": null,
   "metadata": {
    "pycharm": {
     "name": "#%%\n"
    }
   },
   "outputs": [],
   "source": [
    "plot_df.plot(grid=True, title='Portfolio (bond + SHY) and SPY', figsize=(10,6))"
   ]
  },
  {
   "cell_type": "markdown",
   "metadata": {
    "pycharm": {
     "name": "#%% md\n"
    }
   },
   "source": [
    "<h3>\n",
    "Results with SPY and Bond ETF Rotation\n",
    "</h3>\n",
    "\n",
    "<p>\n",
    "The equity ETFs that are used in the ETF rotation are all highly correlated (correlations\n",
    "close to 1.0).  This section shows the performance of an ETF rotation that consists of\n",
    "SPY (the S&P 500 ETF) and SHY (the cash ETF), with bond rotation between TLT and JNK.\n",
    "</p>"
   ]
  },
  {
   "cell_type": "code",
   "execution_count": null,
   "metadata": {
    "jupyter": {
     "outputs_hidden": false
    },
    "pycharm": {
     "name": "#%%\n"
    }
   },
   "outputs": [],
   "source": [
    "limited_asset_set_df = asset_adj_close[['SPY', 'SHY']]\n",
    "\n",
    "portfolio_limited_df, assets_df = portfolio_return(holdings=holdings,\n",
    "                                              asset_percent=equity_percent,\n",
    "                                              bond_percent=bond_percent,\n",
    "                                              asset_etfs=limited_asset_set_df,\n",
    "                                              bond_etfs=fixed_income_adjclose,\n",
    "                                              start_date=start_date,\n",
    "                                              end_date=end_date)\n",
    "\n",
    "plot_df = build_plot_data(holdings, portfolio_limited_df, spy_df)\n",
    "\n",
    "plot_df.plot(grid=True, title='SPY/SHY Portfolio and SPY', figsize=(10,6))"
   ]
  },
  {
   "cell_type": "markdown",
   "metadata": {
    "pycharm": {
     "name": "#%% md\n"
    }
   },
   "source": [
    "<p>\n",
    "The above plot shows that an equity portfolio that is just composed of only the SPY\n",
    "and SHY ETFs has worse performance after 2018 than the complete ETF rotation set.  Although\n",
    "the ETFs in the rotation set are highly correlated, there are periodic differences\n",
    "in performance which may explain this result.\n",
    "</p>\n",
    "\n",
    "<h2>\n",
    "Expanding the ETF Universe\n",
    "</h2>\n",
    "\n",
    "<p>\n",
    "<i>The 12% Solution</i> is designed so that anyone who is willing\n",
    "to spend a little bit of time every month can implement the investment strategy.\n",
    "For readers who subscribe to the author's free email newletter it is even simpler:\n",
    "the current <i>12% solution</i> stock and bond recommendations are included.\n",
    "</p>\n",
    "<p>\n",
    "This section of the notebook investigates the ETF rotation results with an expanded\n",
    "ETF universe.  Some of these assets are also in the <i>12% Solution</i> asset set.\n",
    "</p>\n",
    "<p>\n",
    "The ETF universe is limited by the backtest start date of March 3, 2008 (2008-03-03).\n",
    "The ETF inception date needs to be at least three trading months before this date\n",
    "to provide sufficient history to select an ETF on the start date.\n",
    "</p>\n",
    "\n",
    "<h3>\n",
    "Bond ETFs\n",
    "</h3>\n",
    "\n",
    "<ul>\n",
    "<li>\n",
    "<p>\n",
    "<b>SPIP - SPDR Portfolio TIPS ETF</b>\n",
    "</p>\n",
    "<p>\n",
    "Inception Date: 05/25/2007\n",
    "</p>\n",
    "</li>\n",
    "\n",
    "<li>\n",
    "<p>\n",
    "BIV - Vanguard Intermediate-Term Bond ETF\n",
    "</p>\n",
    "<p>\n",
    "Inception Date: 04/03/2007\n",
    "</p>\n",
    "</li>\n",
    "\n",
    "<li>\n",
    "<p>\n",
    "IEF - iShares 7-10 Year Treasury Bond ETF\n",
    "</p>\n",
    "<p>\n",
    "Inception Date: 07/22/2002\n",
    "</p>\n",
    "</li>\n",
    "\n",
    "<li>\n",
    "<p>\n",
    "TLT - iShares 20+ Year Treasury Bond ETF (from <i>12% Solution</i>)\n",
    "</p>\n",
    "<p>\n",
    "Inception Date: 07/22/2002\n",
    "</p>\n",
    "</li>\n",
    "\n",
    "<li>\n",
    "<p>\n",
    "VYM - Vanguard High Dividend Yield ETF (replacement for JNK)\n",
    "</p>\n",
    "<p>\n",
    "Inception Date: 11/10/2006\n",
    "</p>\n",
    "</li>\n",
    "\n",
    "</ul>\n",
    "\n",
    "<h3>\n",
    "Equity ETFs\n",
    "</h3>\n",
    "\n",
    "<ul>\n",
    "<li>\n",
    "<p>\n",
    "XLE - Energy Select Sector SPDR Fund\n",
    "</p>\n",
    "<p>\n",
    "Inception Date: 12/16/1998\n",
    "</p>\n",
    "</li>\n",
    "\n",
    "<li>\n",
    "<p>\n",
    "VUG - Vanguard Growth ETF\n",
    "</p>\n",
    "<p>\n",
    "Inception Date: 01/26/2004\n",
    "</p>\n",
    "</li>\n",
    "\n",
    "<li>\n",
    "<p>\n",
    "VBR - Vanguard Small-Cap Value ETF\n",
    "</p>\n",
    "<p>\n",
    "Inception Date: 01/26/2004\n",
    "</p>\n",
    "</li>\n",
    "\n",
    "<li>\n",
    "<p>\n",
    "FXZ - First Trust Materials AlphaDEX Fund\n",
    "</p>\n",
    "<p>\n",
    "Inception Date: 05/08/2007\n",
    "</p>\n",
    "</li>\n",
    "\n",
    "<li>\n",
    "<p>\n",
    "VDC - Vanguard Consumer Staples ETF\n",
    "</p>\n",
    "<p>\n",
    "Inception Date: 01/26/2004\n",
    "</p>\n",
    "</li>\n",
    "\n",
    "<li>\n",
    "<p>\n",
    "MDY - SPDR S&P Midcap 400 ETF Trust\n",
    "</p>\n",
    "<p>\n",
    "Inception Date: 05/04/1995\n",
    "</p>\n",
    "</li>\n",
    "\n",
    "<li>\n",
    "<p>\n",
    "QQQ - Invesco QQQ Trust\n",
    "</p>\n",
    "<p>\n",
    "Inception Date: 03/10/1999\n",
    "</p>\n",
    "</li>\n",
    "\n",
    "<li>\n",
    "<p>\n",
    "VCR - Vanguard Consumer Discretionary ETF\n",
    "</p>\n",
    "<p>\n",
    "Inception Date: 01/26/2004\n",
    "</p>\n",
    "</li>\n",
    "\n",
    "<li>\n",
    "<p>\n",
    "VFH - Vanguard Financials ETF\n",
    "</p>\n",
    "<p>\n",
    "Inception Date: 01/26/2004\n",
    "</p>\n",
    "</li>\n",
    "\n",
    "<li>\n",
    "<p>\n",
    "VGT - Vanguard Information Technology ETF\n",
    "</p>\n",
    "<p>\n",
    "Inception Date: 01/26/2004\n",
    "</p>\n",
    "</li>\n",
    "\n",
    "<li>\n",
    "<p>\n",
    "VHT - Vanguard Health Care ETF\n",
    "</p>\n",
    "<p>\n",
    "Inception Date: 01/26/2004\n",
    "</p>\n",
    "</li>\n",
    "\n",
    "<li>\n",
    "<p>\n",
    "IWM - iShares Russell 2000 ETF\n",
    "</p>\n",
    "<p>\n",
    "Inception Date: 05/22/2000\n",
    "</p>\n",
    "</li>\n",
    "\n",
    "<li>\n",
    "<p>\n",
    "SPY - SPDR S&P 500 ETF Trust\n",
    "</p>\n",
    "<p>\n",
    "Inception Date: 01/22/1993\n",
    "</p>\n",
    "</li>\n",
    "\n",
    "<li>\n",
    "<p>\n",
    "SOXX - iShares Semiconductor ETF\n",
    "</p>\n",
    "<p>\n",
    "Inception Date: 07/10/2001\n",
    "</p>\n",
    "</li>\n",
    "\n",
    "</ul>\n",
    "\n",
    "<h3>\n",
    "Short Funds\n",
    "</h3>\n",
    "\n",
    "<p>\n",
    "These ETFs take short positions against market indexes. They can be much more\n",
    "volatile and, at least in the long term, risky than a standard long ETF.\n",
    "</p>\n",
    "<p>\n",
    "The ETF rotation algorithm moves in and out of ETFs, so they are not held for a long\n",
    "period of time, so the risk may be less.\n",
    "</p>\n",
    "\n",
    "<ul>\n",
    "\n",
    "<li>\n",
    "<p>\n",
    "SDS - ProShares UltraShort S&P500\n",
    "</p>\n",
    "<p>\n",
    "Inception Date: 07/11/2006\n",
    "</p>\n",
    "</li>\n",
    "\n",
    "<li>\n",
    "<p>\n",
    "RWM - ProShares Short Russell 2000\n",
    "</p>\n",
    "<p>\n",
    "Inception Date: 01/23/2007\n",
    "</p>\n",
    "</li>\n",
    "\n",
    "</ul>\n",
    "\n",
    "<p>\n",
    "Data has already been downloaded for IWM, MDY, QQQ, SPY and TLT.\n",
    "</p>"
   ]
  },
  {
   "cell_type": "code",
   "execution_count": null,
   "metadata": {
    "jupyter": {
     "outputs_hidden": false
    },
    "pycharm": {
     "name": "#%%\n"
    }
   },
   "outputs": [],
   "source": [
    "new_equity_etfs = ['XLE', 'VUG', 'VBR', 'FXZ',\n",
    "                   'VDC', 'VCR', 'VFH', 'VGT',\n",
    "                   'VHT', 'SOXX']\n",
    "\n",
    "new_bond_etfs = ['SPIP', 'BIV', 'IEF', 'VYM']\n",
    "\n",
    "short_etfs = ['SDS', 'RWM']\n",
    "\n",
    "new_etf_adjclose_file = 'new_equity_etf_adjclose'\n",
    "new_equity_adj_close = get_market_data(file_name=new_etf_adjclose_file,\n",
    "                                data_col='Adj Close',\n",
    "                                symbols=new_equity_etfs,\n",
    "                                data_source=data_source,\n",
    "                                start_date=look_back_date,\n",
    "                                end_date=end_date)\n",
    "\n",
    "new_bond_adjclose_file = 'new_bond_etf_adjclose'\n",
    "new_bond_adj_close = get_market_data(file_name=new_bond_adjclose_file,\n",
    "                                data_col='Adj Close',\n",
    "                                symbols=new_bond_etfs,\n",
    "                                data_source=data_source,\n",
    "                                start_date=look_back_date,\n",
    "                                end_date=end_date)\n",
    "\n",
    "short_etf_adjclose_file = 'short_etf_adjclose'\n",
    "short_etf_adj_close = get_market_data(file_name=short_etf_adjclose_file,\n",
    "                                data_col='Adj Close',\n",
    "                                symbols=short_etfs,\n",
    "                                data_source=data_source,\n",
    "                                start_date=look_back_date,\n",
    "                                end_date=end_date)\n",
    "\n",
    "new_etf_set = pd.concat([new_equity_adj_close, equity_adj_close, shy_adj_close], axis=1)\n",
    "new_bond_set = pd.concat([new_bond_adj_close, fixed_income_adjclose['TLT']], axis=1)\n",
    "\n",
    "portfolio_new_df, assets_df = portfolio_return(holdings=holdings,\n",
    "                                              asset_percent=equity_percent,\n",
    "                                              bond_percent=bond_percent,\n",
    "                                              asset_etfs=new_etf_set,\n",
    "                                              bond_etfs=new_bond_set,\n",
    "                                              start_date=start_date,\n",
    "                                              end_date=end_date)\n",
    "\n",
    "plot_df = build_plot_data(holdings, portfolio_new_df, spy_df)"
   ]
  },
  {
   "cell_type": "markdown",
   "metadata": {
    "pycharm": {
     "name": "#%% md\n"
    }
   },
   "source": [
    "<h3>\n",
    "ETF Rotation with an Expanded ETF Set\n",
    "</h3>\n",
    "\n",
    "<p>\n",
    "The plot below show the ETF rotation portfolio with an expanded set of ETFs.  The\n",
    "results are significantly worse than the base <i>12% Solution</i> portfolio.  Not only\n",
    "is the terminal value of the portfolio less than the <i>12% Solution</i> portfolio, but\n",
    "it also appears to be more volatile.\n",
    "</p>"
   ]
  },
  {
   "cell_type": "code",
   "execution_count": null,
   "metadata": {
    "pycharm": {
     "name": "#%%\n"
    }
   },
   "outputs": [],
   "source": [
    "plot_df.plot(grid=True, title='Expanded ETF Universe Portfolio and SPY', figsize=(10,6))"
   ]
  },
  {
   "cell_type": "markdown",
   "metadata": {
    "pycharm": {
     "name": "#%% md\n"
    }
   },
   "source": [
    "<p>\n",
    "The expanded ETF universe was chosen to provide broad coverage over a number of sectors.\n",
    "The hope is that different sectors might have superior performance, even if this was\n",
    "not the case over time. As these results demonstrate, this did not happen.\n",
    "</p>\n",
    "<p>\n",
    "A different choice of ETFs for the expanded universe might produce better performance.\n",
    "These assets should show correlation between the three month return and the return\n",
    "in the next month.\n",
    "</p>\n",
    "\n",
    "<h3>\n",
    "The 12% Portfolio plus Market Short ETFs\n",
    "</h3>\n",
    "\n",
    "<p>\n",
    "There are a number of ETFs that take a short position with respect to market indexes.\n",
    "The idea behind these is seductive: in a market down period these ETFs will provide\n",
    "better results when equity long ETFs lose money.  In theory the market short ETFs\n",
    "should would only benefit the portfolio since they would only be chosen when the market\n",
    "as down.\n",
    "</p>"
   ]
  },
  {
   "cell_type": "code",
   "execution_count": null,
   "metadata": {
    "pycharm": {
     "name": "#%%\n"
    }
   },
   "outputs": [],
   "source": [
    "assets_plus_short = pd.concat([asset_adj_close, short_etf_adj_close], axis=1)\n",
    "portfolio_plus_short_df, assets_df = portfolio_return(holdings=holdings,\n",
    "                                              asset_percent=equity_percent,\n",
    "                                              bond_percent=bond_percent,\n",
    "                                              asset_etfs=assets_plus_short,\n",
    "                                              bond_etfs=fixed_income_adjclose,\n",
    "                                              start_date=start_date,\n",
    "                                              end_date=end_date)\n",
    "\n",
    "plot_df = build_plot_data(holdings, portfolio_plus_short_df, spy_df)"
   ]
  },
  {
   "cell_type": "markdown",
   "metadata": {
    "pycharm": {
     "name": "#%% md\n"
    }
   },
   "source": [
    "<p>\n",
    "As the plot below shows, the ETF set that includes the market short ETFs have the worst\n",
    "performance of any portfolio so far.\n",
    "</p>\n",
    "<p>\n",
    "The ETF for the current month is chosen on the basis of the performance for the past\n",
    "three months.  This is a momentum strategy and the market short ETFs seem to perform\n",
    "very badly with this strategy. From these results we can assume that the next month\n",
    "is not highly correlated with the return over the past three months.\n",
    "</p>"
   ]
  },
  {
   "cell_type": "code",
   "execution_count": null,
   "metadata": {
    "pycharm": {
     "name": "#%%\n"
    }
   },
   "outputs": [],
   "source": [
    "plot_df.plot(grid=True, title='Portfolio plus short ETFs and SPY', figsize=(10,6))"
   ]
  },
  {
   "cell_type": "markdown",
   "metadata": {
    "pycharm": {
     "name": "#%% md\n"
    }
   },
   "source": [
    "<h3>\n",
    "Analyzing Momentum\n",
    "</h3>\n",
    "<p>\n",
    "The results with the expanded ETF set and the short ETF set show much worse portfolio\n",
    "performance than the results with <i>The 12% Portfolio</i>.  The results with the\n",
    "short ETFs are particularly bad.\n",
    "</p>\n",
    "<p>\n",
    "The momentum algorithm used in the ETF rotation portfolio depends on the prediction\n",
    "of the next month's return based on the return over the previous three months.  If the return\n",
    "in the last three months is positive, the return in the next month should be positive.\n",
    "</p>\n",
    "<p>\n",
    "In the case of the market short ETFS, the past three month return does\n",
    "not appear to strongly predict the next month return.\n",
    "</p>\n",
    "<p>\n",
    "In this section we examine the correlation statistical test to see if correlation\n",
    "can be used to successfully select and ETF set that will result in superior\n",
    "portfolio performance.\n",
    "</p>"
   ]
  },
  {
   "cell_type": "code",
   "execution_count": null,
   "metadata": {
    "pycharm": {
     "name": "#%%\n"
    }
   },
   "outputs": [],
   "source": [
    "def calculate_return_series(close_prices_df: pd.DataFrame,\n",
    "                            start_date: datetime) -> Tuple[pd.DataFrame, pd.DataFrame]:\n",
    "    \"\"\"\n",
    "    :param close_prices_df: a DataFrame of close prices where all of the data aligns on date\n",
    "    :param start_date: the start date to use in calculating the returns\n",
    "    :return: a Series with the past three month return and the return for the next month\n",
    "    \"\"\"\n",
    "    date_index = close_prices_df.index\n",
    "    end_date = date_index[-1]\n",
    "    end_date_t = convert_date(end_date)\n",
    "    back_delta = relativedelta(months=3)\n",
    "    forward_delta = relativedelta(months=1)\n",
    "    start_date_i = start_date\n",
    "    three_month_return_df = pd.DataFrame()\n",
    "    one_month_return_df = pd.DataFrame()\n",
    "    while start_date_i <= end_date_t:\n",
    "        # Start of the back-test data\n",
    "        back_start = start_date_i - back_delta\n",
    "        # End of the backtest data\n",
    "        back_end = start_date_i\n",
    "        # end of the forward data period (e.g., one month)\n",
    "        forward_end = start_date_i + forward_delta\n",
    "        start_ix = findDateIndex(date_index, back_start)\n",
    "        end_ix = findDateIndex(date_index, back_end)\n",
    "        forward_ix = findDateIndex(date_index, forward_end)\n",
    "        if start_ix >= 0 and end_ix >= 0 and forward_ix >= 0:\n",
    "            three_month_a = (close_prices_df[:][start_ix:start_ix+1].values / close_prices_df[:][end_ix:end_ix+1].values) - 1\n",
    "            three_month_return_df = pd.concat([three_month_return_df, pd.DataFrame(three_month_a)])\n",
    "            one_month_a = (close_prices_df[:][forward_ix:forward_ix+1].values / close_prices_df[:][end_ix:end_ix+1].values) - 1\n",
    "            one_month_return_df = pd.concat([one_month_return_df, pd.DataFrame(one_month_a)])\n",
    "        else:\n",
    "            break\n",
    "        start_date_i = forward_end\n",
    "    three_month_return_df.columns = close_prices_df.columns\n",
    "    one_month_return_df.columns = close_prices_df.columns\n",
    "    return three_month_return_df, one_month_return_df\n",
    "\n",
    "\n",
    "all_etf_adj_close = pd.concat([equity_adj_close,\n",
    "                               new_equity_adj_close,\n",
    "                               short_etf_adj_close,\n",
    "                               shy_adj_close], axis=1)\n",
    "corr_end_date = start_date + relativedelta(years=8)\n",
    "date_index = all_etf_adj_close.index\n",
    "corr_end_ix = findDateIndex(date_index, corr_end_date)\n",
    "all_etf_adj_close_trunc = all_etf_adj_close[:][0:corr_end_ix+1]\n",
    "three_month_df, one_month_df = calculate_return_series(close_prices_df=all_etf_adj_close_trunc, start_date=start_date)\n",
    "return_corr = three_month_df.corrwith(one_month_df)\n",
    "return_corr.sort_values(ascending=False, inplace=True)\n",
    "return_corr_df = pd.DataFrame(return_corr)\n"
   ]
  },
  {
   "cell_type": "markdown",
   "metadata": {
    "pycharm": {
     "name": "#%% md\n"
    }
   },
   "source": [
    "<h3>\n",
    "Correlation\n",
    "</h3>\n",
    "\n",
    "<p>\n",
    "The table below shows the correlation between the three month return and the one\n",
    "month return for the ETFs that hae been used in ETF rotations above.\n",
    "</p>\n",
    "<p>\n",
    "A correlation of 0 mean that there is no correlation between the series.  A correlation of\n",
    "1.0 means that the two time series are exactly correlated.\n",
    "</p>"
   ]
  },
  {
   "cell_type": "code",
   "execution_count": null,
   "metadata": {
    "pycharm": {
     "name": "#%%\n"
    }
   },
   "outputs": [],
   "source": [
    "print(tabulate(return_corr_df, headers=['Correlation'], tablefmt='fancy_grid'))"
   ]
  },
  {
   "cell_type": "markdown",
   "metadata": {
    "pycharm": {
     "name": "#%% md\n"
    }
   },
   "source": [
    "<p>\n",
    "Arbitrarily choosing a correlation that is greater than 0.10, an ETF rotation set\n",
    "is constructed.\n",
    "</p>"
   ]
  },
  {
   "cell_type": "code",
   "execution_count": null,
   "metadata": {
    "pycharm": {
     "name": "#%%\n"
    }
   },
   "outputs": [],
   "source": [
    "etf_corr_set = return_corr_df[:][return_corr_df >= 0.10].dropna()\n",
    "high_corr_etfs = all_etf_adj_close[etf_corr_set.index]\n",
    "# make sure that SHY is included in the ETF set\n",
    "if not 'SHY' in high_corr_etfs.columns:\n",
    "    high_corr_etfs = pd.concat([high_corr_etfs, shy_adj_close], axis=1)\n",
    "\n",
    "high_corr_portfolio_df, assets_df = portfolio_return(holdings=holdings,\n",
    "                                              asset_percent=equity_percent,\n",
    "                                              bond_percent=bond_percent,\n",
    "                                              asset_etfs=high_corr_etfs,\n",
    "                                              bond_etfs=fixed_income_adjclose,\n",
    "                                              start_date=corr_end_date,\n",
    "                                              end_date=end_date)\n",
    "\n",
    "twelve_percent_df,  assets_df = portfolio_return(holdings=holdings,\n",
    "                                              asset_percent=equity_percent,\n",
    "                                              bond_percent=bond_percent,\n",
    "                                              asset_etfs=asset_adj_close,\n",
    "                                              bond_etfs=fixed_income_adjclose,\n",
    "                                              start_date=corr_end_date,\n",
    "                                              end_date=end_date)\n",
    "\n",
    "\n",
    "spy_df_adj, t = adjust_time_series(spy_df, high_corr_portfolio_df)\n",
    "\n",
    "plot_df = build_plot_data(holdings, high_corr_portfolio_df, spy_df_adj)\n",
    "plot_df['twelve percent'] = twelve_percent_df\n",
    "plot_df.columns = ['Correlation', 'SPY', 'twelve percent']"
   ]
  },
  {
   "cell_type": "markdown",
   "metadata": {
    "pycharm": {
     "name": "#%% md\n"
    }
   },
   "source": [
    "The plot below shows the results of the \"high correlation\" portfolio, The 12% portfolio\n",
    "and SPY.  The performance of the high correlation portfolio is much worse than the\n",
    "other two portfolios."
   ]
  },
  {
   "cell_type": "code",
   "execution_count": null,
   "metadata": {
    "pycharm": {
     "name": "#%%\n"
    }
   },
   "outputs": [],
   "source": [
    "plot_df.plot(grid=True, title='High Correlation ETFs, 12% Portfolio and SPY', figsize=(10,6))"
   ]
  },
  {
   "cell_type": "markdown",
   "metadata": {
    "pycharm": {
     "name": "#%% md\n"
    }
   },
   "source": [
    "<h3>\n",
    "Standard Error of the Correlation\n",
    "</h3>\n",
    "\n",
    "<p>\n",
    "The ETF rotation algorithm is based on ETF momentum where the return in the current month\n",
    "is predicted by the return in the previous three months.  The correlation between the\n",
    "three month return and the one month return should be a measure of momentum.  An ETF\n",
    "with high correlation should perform better than an ETF with low correlation.\n",
    "</p>\n",
    "<p>\n",
    "This is not what we see in the previous plot, where the \"high correlation\" portfolio\n",
    "performs much worse than the 12% portfolio or SPY.  A reason for this may be that the\n",
    "correlation estimates contain significant error.\n",
    "</p>\n",
    "<p>\n",
    "A sliding three month window is used to calcuate the return over the past three months.\n",
    "The return over the month that follows this window is the one month return.  A correlation is\n",
    "calculated for the three month return and the one month return.\n",
    "</p>\n",
    "<p>\n",
    "The correlation data used to select the \"high correlation\" ETF set contains 8 x 12 = 96\n",
    "return values in eight year time period from March 2008 to\n",
    "March 2016.\n",
    "</p>\n",
    "<p>\n",
    "There is some controversy about the proper equation to use to calculate the standard\n",
    "error of the correlation. For example, see this Stack Exchange\n",
    "<a href=\"https://stats.stackexchange.com/questions/73621/standard-error-from-correlation-coefficient\">post</a>.\n",
    "</p>\n",
    "<p>\n",
    "Two equations are proposed for calculating the standard error of the correlation.\n",
    "The results are very similar for the correlation values that are calculated here.\n",
    "</p>\n",
    "\n",
    "$\\ Corr_{se} = \\sqrt{ \\frac{1 - r^2}{N-2} } \\approx \\frac{1 - r^2}{\\sqrt{N}}$\n",
    "\n",
    "<p>\n",
    "Here <i>r</i> is the correlation coefficient.\n",
    "</p>\n",
    "<p>\n",
    "The standard error values fall within a narrow range, so it is reasonable to take\n",
    "the average value.\n",
    "</p>"
   ]
  },
  {
   "cell_type": "code",
   "execution_count": null,
   "metadata": {
    "pycharm": {
     "name": "#%%\n"
    }
   },
   "outputs": [],
   "source": [
    "return_corr_a = return_corr.values\n",
    "# https://stats.stackexchange.com/questions/73621/standard-error-from-correlation-coefficient\n",
    "n = three_month_df.shape[0]\n",
    "corr_se_1 = sqrt((1 - return_corr_a**2)/(n-2))\n",
    "corr_se_2 = (1 - return_corr_a**2)/sqrt(n-2)\n",
    "\n",
    "print(f'Correlation standard error: mean, equation 1 = {round(corr_se_1.mean(), 4)}, mean equation 2 = {round(corr_se_2.mean(), 4)}')"
   ]
  },
  {
   "cell_type": "markdown",
   "metadata": {
    "pycharm": {
     "name": "#%% md\n"
    }
   },
   "source": [
    "<p>\n",
    "The standard error of the correlation is approximately\n",
    "</p>\n",
    "\n",
    "$ \\mp 0.10$\n",
    "\n",
    "<p>\n",
    "This error is about the size of the top five correlation values, which suggests that\n",
    "the correlation values cannot be relied on.\n",
    "</p>"
   ]
  },
  {
   "cell_type": "code",
   "execution_count": null,
   "metadata": {
    "pycharm": {
     "name": "#%%\n"
    }
   },
   "outputs": [],
   "source": [
    "\n",
    "three_month_df, one_month_df = calculate_return_series(close_prices_df=all_etf_adj_close, start_date=start_date)\n",
    "return_corr = three_month_df.corrwith(one_month_df)\n",
    "return_corr.sort_values(ascending=False, inplace=True)\n",
    "return_corr_df = pd.DataFrame(return_corr)\n",
    "\n",
    "return_corr_a = return_corr.values\n",
    "# https://stats.stackexchange.com/questions/73621/standard-error-from-correlation-coefficient\n",
    "n = three_month_df.shape[0]\n",
    "corr_se_1 = sqrt((1 - return_corr_a**2)/(n-2))\n",
    "corr_se_2 = (1 - return_corr_a**2)/sqrt(n-2)"
   ]
  },
  {
   "cell_type": "markdown",
   "metadata": {
    "pycharm": {
     "name": "#%% md\n"
    }
   },
   "source": [
    "<h3>\n",
    "ETF Correlations from 2008 to Present\n",
    "</h3>\n",
    "\n",
    "<p>\n",
    "Many of the ETFs have an inception date in the third quarter of 2007.  Calculating\n",
    "the three month and one month return correlation over this entire time period\n",
    "yields a correlation with a smaller standard error.\n",
    "</p>"
   ]
  },
  {
   "cell_type": "code",
   "execution_count": null,
   "metadata": {
    "pycharm": {
     "name": "#%%\n"
    }
   },
   "outputs": [],
   "source": [
    "print(tabulate(return_corr_df, headers=['Correlation'], tablefmt='fancy_grid'))\n",
    "\n",
    "print('\\n')\n",
    "print(f'Number of returns used to calculate the correlations: {n}')\n",
    "\n",
    "print(f'Correlation standard error: mean equation 1 = {round(corr_se_1.mean(), 4)}, mean equation 2 = {round(corr_se_2.mean(), 4)}')"
   ]
  },
  {
   "cell_type": "markdown",
   "metadata": {
    "pycharm": {
     "name": "#%% md\n"
    }
   },
   "source": [
    "<p>\n",
    "A backtest attempts to simulate a result from some point in the past.  We cannot use\n",
    "the more accurate correlation estimates in the backtest because we would not have had\n",
    "these values in in the past (in 2016, for example).\n",
    "</p>\n",
    "<p>\n",
    "We could use the more accurate correlation values going forward from our current time,\n",
    "but we don't know whether using a subset of the ETFs ranked by their correlation value\n",
    "would yield better results.\n",
    "</p>"
   ]
  },
  {
   "cell_type": "markdown",
   "metadata": {
    "pycharm": {
     "name": "#%% md\n"
    }
   },
   "source": [
    "<h2>\n",
    "Portfolio with Drawdown\n",
    "</h2>\n",
    "\n",
    "<p>\n",
    "The portfolio outlined in <i>The 12% Solution</i> is described as a long term investment\n",
    "portfolio.  The risk adjusted results are excellent. Someone who was fortunate enough to\n",
    "invest in 2008 would have seen their money grow by over 300%.\n",
    "</p>\n",
    "<p>\n",
    "This section looks at the <i>The 12% Solution</i> portfolio from an income point of view.\n",
    "The backtests here and in <i>The 12% Solution</i> show that the portfolio returns over\n",
    "11%, on average, per year.  How would the portfolio perform if 10% of the portfolio\n",
    "were withdrawn for current income in the case where the portfolio current portfolio\n",
    "balance is at least equal to the initial capital plus ten percent.\n",
    "</p>"
   ]
  },
  {
   "cell_type": "code",
   "execution_count": null,
   "metadata": {
    "pycharm": {
     "name": "#%%\n"
    }
   },
   "outputs": [],
   "source": [
    "def portfolio_income(holdings: float,\n",
    "                     asset_percent: float,\n",
    "                     bond_percent: float,\n",
    "                     asset_etfs: pd.DataFrame,\n",
    "                     bond_etfs: pd.DataFrame,\n",
    "                     start_date: datetime,\n",
    "                     end_date: datetime,\n",
    "                     withdraw_percent: float) -> Tuple[pd.DataFrame, pd.DataFrame]:\n",
    "    asset_holding= holdings * asset_percent\n",
    "    bond_holding=holdings * bond_percent\n",
    "    back_delta = relativedelta(months=3)\n",
    "    forward_delta = relativedelta(months=1)\n",
    "    date_index = asset_etfs.index\n",
    "    start_date_i = start_date\n",
    "    current_year = start_date.year\n",
    "    portfolio_a = np.zeros(0)\n",
    "    last_index = 0\n",
    "    cash_l = list()\n",
    "    year_index_l = list()\n",
    "    while start_date_i <= end_date:\n",
    "        # Start of the back-test data\n",
    "        back_start = start_date_i - back_delta\n",
    "        # End of the backtest data\n",
    "        back_end = start_date_i\n",
    "        # end of the forward data period (e.g., one month)\n",
    "        forward_end = start_date_i + forward_delta\n",
    "        start_ix = findDateIndex(date_index, back_start)\n",
    "        end_ix = findDateIndex(date_index, back_end)\n",
    "        forward_ix = findDateIndex(date_index, forward_end)\n",
    "        if start_ix >= 0 and end_ix >= 0 and forward_ix >= 0:\n",
    "            # Choose an asset based on the past three months\n",
    "            asset_df = chooseAsset(start=start_ix, end=end_ix, asset_set=asset_etfs)\n",
    "            asset_month_df = asset_df[:][end_ix:forward_ix]\n",
    "            asset_return_df = return_df(asset_month_df)\n",
    "            bond_df = chooseAsset(start=start_ix, end=end_ix, asset_set=bond_etfs)\n",
    "            bond_month_df = bond_df[:][end_ix:forward_ix]\n",
    "            bond_return_df = return_df(bond_month_df)\n",
    "            port_asset_a = apply_return(asset_holding, asset_return_df)\n",
    "            port_bond_a = apply_return(bond_holding, bond_return_df)\n",
    "            port_total_a = port_asset_a + port_bond_a\n",
    "            last_index = forward_ix\n",
    "            start_date_i = forward_end\n",
    "            if start_date_i.year > current_year:\n",
    "                current_port_total = port_total_a[-1]\n",
    "                withdrawal =  current_port_total * withdraw_percent\n",
    "                if (current_port_total - withdrawal) >= holdings:\n",
    "                    port_total_a[-1] = current_port_total - withdrawal\n",
    "                    cash_l.append(withdrawal)\n",
    "                    month_index = asset_month_df.index[0]\n",
    "                    year_index_l.append(month_index)\n",
    "                current_year = start_date_i.year\n",
    "            portfolio_a = np.append(portfolio_a, port_total_a)\n",
    "            asset_holding = port_total_a[-1] * asset_percent\n",
    "            bond_holding = port_total_a[-1] * bond_percent\n",
    "        else:\n",
    "            break\n",
    "    portfolio_df = pd.DataFrame(portfolio_a)\n",
    "    portfolio_df.columns = ['portfolio']\n",
    "    index_start = findDateIndex(date_index, start_date)\n",
    "    date_index = asset_etfs.index\n",
    "    portfolio_index = date_index[index_start:last_index]\n",
    "    portfolio_df.index = portfolio_index\n",
    "    cash_df = pd.DataFrame(cash_l)\n",
    "    cash_df.index = year_index_l\n",
    "    return portfolio_df, cash_df\n",
    "\n",
    "\n",
    "portfolio_income_df, cash_df = portfolio_income(holdings=holdings,\n",
    "                                         asset_percent=equity_percent,\n",
    "                                         bond_percent=bond_percent,\n",
    "                                         asset_etfs=asset_adj_close,\n",
    "                                         bond_etfs=fixed_income_adjclose,\n",
    "                                         start_date=start_date,\n",
    "                                         end_date=end_date,\n",
    "                                         withdraw_percent=0.10)\n",
    "\n",
    "\n",
    "print(tabulate(cash_df, headers=['Withdrawal'], tablefmt='fancy_grid'))\n",
    "\n",
    "portfolio_income_df.plot(grid=True, title='Portfolio with 10% withdrawal', figsize=(10,6))\n"
   ]
  },
  {
   "cell_type": "markdown",
   "metadata": {
    "pycharm": {
     "name": "#%% md\n"
    }
   },
   "source": [
    "<h4>\n",
    "Disclaimer\n",
    "</h4>\n",
    "<p>\n",
    "This notebook is not financial advice, investing advice, or tax advice.\n",
    "The information in this notebook is for informational and recreational purposes only.\n",
    "Investment products discussed (ETFs, mutual funds, etc.) are for illustrative purposes\n",
    "only. This is not a recommendation to buy, sell, or otherwise transact in any of the\n",
    "products mentioned. Do your own due diligence. Past performance does not guarantee\n",
    "future returns.\n",
    "</p>"
   ]
  },
  {
   "cell_type": "code",
   "execution_count": null,
   "metadata": {
    "jupyter": {
     "outputs_hidden": false
    },
    "pycharm": {
     "name": "#%%"
    }
   },
   "outputs": [],
   "source": []
  }
 ],
 "metadata": {
  "kernelspec": {
   "display_name": "Python 3 (ipykernel)",
   "language": "python",
   "name": "python3"
  },
  "language_info": {
   "codemirror_mode": {
    "name": "ipython",
    "version": 3
   },
   "file_extension": ".py",
   "mimetype": "text/x-python",
   "name": "python",
   "nbconvert_exporter": "python",
   "pygments_lexer": "ipython3",
   "version": "3.9.9"
  }
 },
 "nbformat": 4,
 "nbformat_minor": 4
}