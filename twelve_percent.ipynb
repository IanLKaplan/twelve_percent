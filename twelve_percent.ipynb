{
 "cells": [
  {
   "cell_type": "markdown",
   "source": [
    "<p>\n",
    "This Jupyter notebook investigates a stock market trading algorithm that is described in the\n",
    "(short) book <i>The 12% Solution: Earn A 12% Average Annual Return On Your Money, Beating\n",
    "The S&P 500</i> by David Alan Carter.  According to the book this algorithm, which is\n",
    " referred to as \"ETF rotation\", yields a 12% return, on average.\n",
    "</p>\n",
    "<p>\n",
    "This Jupyter notebook is saved on GitHub: https://github.com/IanLKaplan/twelve_percent\n",
    "</p>\n",
    "<p>\n",
    "In this Jupyter notebook I attempt to reproduce the results described in\n",
    "<i>The 12% solution</i>.\n",
    "This will verify the results reported in the book and validate this\n",
    "Python implementation.\n",
    "</p>\n",
    "<p>\n",
    "The book <i>The 12% Solution</i> is targeted at a readership that is not using analytical\n",
    "tools like Python, Jupyter or R.  Following the proposed algorithm the reader trades one\n",
    "of four equity ETFs, two bond ETFs or a cash ETF. The analysis of past ETF\n",
    "performance can be done using on-line tools.\n",
    "</p>\n",
    "<p>\n",
    "<i>The 12% Soluton</i> portfolio allocates 60% of the portfolio to equity (stock) ETFs\n",
    "and 40% in bonds.  The bond portion of the portfolio is allocated to either a US Treasury bond\n",
    "ETF or to a corporate high yield (sometimes called junk bond) ETF, depending on the\n",
    "relative yield for the previous three months.\n",
    "</p>\n",
    "<p>\n",
    "If the results reported in <i>The 12% solution</i> can be reproduced, it may be possible to\n",
    "improve on these results by using a larger universe of equity ETFs.\n",
    "</p>\n",
    "<ul>\n",
    "<li>\n",
    "The ETFs used in <i>The 12% Solution</i> are highly correlated.  Expanding the universe\n",
    "of ETFs could improve performance since there may be ETFs that have\n",
    "better performance in the previous quarter than the four equity ETFs.\n",
    "</li>\n",
    "<li>\n",
    "The algorithm outlines in <i>The 12% solution</i> is referred a momentum algorithm.\n",
    "Instead of picking the ETF that has the highest return over a three month period,\n",
    "it would be interesting to examine ETFs that have increased each month over the\n",
    "three month period (e.g., ETFs that have the highest momentum and return).\n",
    "</li>\n",
    "<li>\n",
    "The performance of the equity ETFs is compared to the \"cash\" ETF SHY.  If their\n",
    "performance is worse, the the portfolio is rebalanced into SHY. Investigating\n",
    "rebalancing into a bond ETF if it's performance is better than SHY and the equity\n",
    "ETFs should be looked at.\n",
    "</li>\n",
    "<li>\n",
    "The <i>The 12% solution</i> proposes a 60% equity/40% bond allocation in the portfolio.\n",
    "This reduces volatility, but it also reduces return.  Using an all equity allocation\n",
    "that rebalances into cash when ETFs have worse than cash performance is something\n",
    "that would be interesting to look at.\n",
    "</li>\n",
    "</ul>\n",
    "\n",
    "<h2>\n",
    "The ETF Rotation Set\n",
    "</h2>\n",
    "<h3>\n",
    "Equity ETFs\n",
    "</h3>\n",
    "<p>\n",
    "In <i>The 12% Solution</i> there are four ETFs that are used in rotation, two bond funds\n",
    "and one ETF (SHY) that is used as a proxy for \"cash\" (e.g., an asset at the risk free rate).\n",
    "</p>\n",
    "<ul>\n",
    "<li>\n",
    "<p>\n",
    "IWM: iShares Russell 2000 ETF\n",
    "</p>\n",
    "<p>\n",
    "IWM tracks a market-cap-weighted index of US small-cap stocks. The index selects\n",
    "stocks ranked 1,001-3,000 by market cap.\n",
    "</p>\n",
    "<p>\n",
    "Inception date: 5/22/2000\n",
    "</p>\n",
    "</li>\n",
    "<li>\n",
    "<p>\n",
    "MDY: SPDR S&P Midcap 400 ETF Trust\n",
    "</p>\n",
    "<p>\n",
    "MDY tracks a market-cap-weighted index of midcap US companies.\n",
    "</p>\n",
    "<p>\n",
    "Inception date: 5/04/1995\n",
    "</p>\n",
    "</li>\n",
    "<li>\n",
    "<p>\n",
    "QQQ: Invesco QQQ Trust\n",
    "</p>\n",
    "<p>\n",
    "QQQ tracks a modified-market-cap-weighted index of 100 NASDAQ-listed stocks.\n",
    "</p>\n",
    "<p>\n",
    "Inception date: 3/10/1999\n",
    "</p>\n",
    "</li>\n",
    "<li>\n",
    "<p>\n",
    "SPY: SPDR S&P 500 ETF Trust\n",
    "</p>\n",
    "<p>\n",
    "SPY tracks a market-cap-weighted index of US large- and midcap stocks selected by\n",
    "the S&P Committee (e.g., S&P 500).\n",
    "</p>\n",
    "<p>\n",
    "Inception date: Jan 22, 1993\n",
    "</p>\n",
    "</li>\n",
    "</ul>\n",
    "<h3>\n",
    "Bond ETFs\n",
    "</h3>\n",
    "<ul>\n",
    "<li>\n",
    "<p>\n",
    "TLT: iShares 20+ Year Treasury Bond ETF\n",
    "</p>\n",
    "<p>\n",
    "TLT tracks a market-weighted index of debt issued by the US Treasury\n",
    "with remaining maturities of 20 years or more.\n",
    "</p>\n",
    "<p>\n",
    "Inception date: 7/22/2002\n",
    "</p>\n",
    "</li>\n",
    "<li>\n",
    "<p>\n",
    "JNK: SPDR Bloomberg High Yield Bond ETF\n",
    "</p>\n",
    "<p>\n",
    "JNK tracks a market-weighted index of highly liquid, high-yield, US\n",
    "dollar-denominated corporate bonds.\n",
    "</p>\n",
    "<p>\n",
    "Inception date: 11/28/2007\n",
    "</p>\n",
    "</li>\n",
    "</ul>\n",
    "<h3>\n",
    "Cash Proxy\n",
    "</h3>\n",
    "<ul>\n",
    "<li>\n",
    "<p>\n",
    "SHY: iShares 10-20 Year Treasury Bond ETF\n",
    "</p>\n",
    "<p>\n",
    "SHY tracks a market weighted index of debt issued by the US Treasury\n",
    "with 1-3 years remaining to maturity. Treasury STRIPS are excluded.\n",
    "</p>\n",
    "<p>\n",
    "Inception date: 07/22/2002\n",
    "</p>\n",
    "</li>\n",
    "</ul>\n",
    "<p>\n",
    "In <i>The 12% Solution</i> the back test time period starts January 2008.\n",
    "The inception period for the JNK corporate high yield bond fund is\n",
    "November 18, 2007.  To simplify the software in this notebook, the start period is\n",
    "March 3, 2008 (prividing a look-back period over December 2007, January 2008 and\n",
    "February 2008).\n",
    "</p>"
   ],
   "metadata": {
    "collapsed": false,
    "pycharm": {
     "name": "#%% md\n"
    }
   }
  },
  {
   "cell_type": "code",
   "execution_count": 1,
   "metadata": {
    "collapsed": true
   },
   "outputs": [],
   "source": [
    "from datetime import datetime, timedelta\n",
    "\n",
    "import matplotlib\n",
    "from numpy import sqrt\n",
    "from tabulate import tabulate\n",
    "from typing import List, Tuple\n",
    "from pandas_datareader import data\n",
    "import pypfopt as pyopt\n",
    "from pypfopt import expected_returns\n",
    "from pypfopt import risk_models\n",
    "from pypfopt import plotting, CLA\n",
    "import matplotlib.pyplot as plt\n",
    "import scipy.stats as stats\n",
    "import pandas as pd\n",
    "from pandas.core.indexes.datetimes import DatetimeIndex\n",
    "from dateutil.relativedelta import relativedelta\n",
    "import numpy as np\n",
    "from pathlib import Path\n",
    "import tempfile\n",
    "import quantstats as qs\n",
    "\n",
    "def get_market_data(file_name: str,\n",
    "                    data_col: str,\n",
    "                    symbols: List,\n",
    "                    data_source: str,\n",
    "                    start_date: datetime,\n",
    "                    end_date: datetime) -> pd.DataFrame:\n",
    "    \"\"\"\n",
    "      file_name: the file name in the temp directory that will be used to store the data\n",
    "      data_col: the type of data - 'Adj Close', 'Close', 'High', 'Low', 'Open', Volume'\n",
    "      symbols: a list of symbols to fetch data for\n",
    "      data_source: yahoo, etc...\n",
    "      start_date: the start date for the time series\n",
    "      end_date: the end data for the time series\n",
    "      Returns: a Pandas DataFrame containing the data.\n",
    "\n",
    "      If a file of market data does not already exist in the temporary directory, fetch it from the\n",
    "      data_source.\n",
    "    \"\"\"\n",
    "    temp_root: str = tempfile.gettempdir() + '/'\n",
    "    file_path: str = temp_root + file_name\n",
    "    temp_file_path = Path(file_path)\n",
    "    file_size = 0\n",
    "    if temp_file_path.exists():\n",
    "        file_size = temp_file_path.stat().st_size\n",
    "\n",
    "    if file_size > 0:\n",
    "        close_data = pd.read_csv(file_path, index_col='Date')\n",
    "    else:\n",
    "        panel_data: pd.DataFrame = data.DataReader(symbols, data_source, start_date, end_date)\n",
    "        close_data: pd.DataFrame = panel_data[data_col]\n",
    "        close_data.to_csv(file_path)\n",
    "    assert len(close_data) > 0, f'Error reading data for {symbols}'\n",
    "    return close_data\n",
    "\n",
    "\n",
    "plt.style.use('seaborn-whitegrid')\n",
    "\n",
    "equity_etfs = ['IWM', 'MDY', 'QQQ', 'SPY']\n",
    "bond_etfs = ['JNK', 'TLT']\n",
    "cash_etf = 'SHY'\n",
    "\n",
    "data_source = 'yahoo'\n",
    "# The start date is the date used in the examples in The 12% Solution\n",
    "# yyyy-mm-dd\n",
    "start_date_str = '2008-03-03'\n",
    "start_date: datetime = datetime.fromisoformat(start_date_str)\n",
    "look_back_date_str = '2007-12-03'\n",
    "look_back_date: datetime = datetime.fromisoformat(look_back_date_str)\n",
    "end_date: datetime = datetime.today() - timedelta(days=1)\n",
    "\n",
    "etf_adjclose_file = 'equity_etf_adjclose'\n",
    "equity_adj_close = get_market_data(file_name=etf_adjclose_file,\n",
    "                                data_col='Adj Close',\n",
    "                                symbols=equity_etfs,\n",
    "                                data_source=data_source,\n",
    "                                start_date=look_back_date,\n",
    "                                end_date=end_date)\n",
    "\n",
    "shy_adjclose_file = 'shy_adjclose'\n",
    "shy_adj_close = get_market_data(file_name=shy_adjclose_file,\n",
    "                                data_col='Adj Close',\n",
    "                                symbols=[cash_etf],\n",
    "                                data_source=data_source,\n",
    "                                start_date=look_back_date,\n",
    "                                end_date=end_date)\n",
    "\n",
    "fixed_income_adjclose_file = \"fixed_income_adjclose\"\n",
    "fixed_income_adjclose = get_market_data(file_name=fixed_income_adjclose_file,\n",
    "                                data_col='Adj Close',\n",
    "                                symbols=bond_etfs,\n",
    "                                data_source=data_source,\n",
    "                                start_date=look_back_date,\n",
    "                                end_date=end_date)\n",
    "\n",
    "# 13-week yearly treasury bond quote\n",
    "risk_free_asset = '^IRX'\n",
    "rf_file_name = 'rf_adj_close'\n",
    "# The bond return is reported as a yearly return percentage\n",
    "rf_adj_close = get_market_data(file_name=rf_file_name,\n",
    "                                data_col='Adj Close',\n",
    "                                symbols=[risk_free_asset],\n",
    "                                data_source=data_source,\n",
    "                                start_date=start_date,\n",
    "                                end_date=end_date)\n",
    "\n",
    "# The ^IRX interest rate is reported as a yearly percentage rate. Convert this to a daily interest rate\n",
    "rf_adj_rate_np: np.array = np.array( rf_adj_close.values ) / 100\n",
    "rf_daily_np = ((1 + rf_adj_rate_np) ** (1/360)) - 1\n",
    "rf_daily_df: pd.DataFrame = pd.DataFrame( rf_daily_np, index=rf_adj_close.index, columns=['^IRX'])\n",
    "\n",
    "corr_mat = round(equity_adj_close.corr(), 3)\n"
   ]
  },
  {
   "cell_type": "markdown",
   "source": [
    "<h3>\n",
    "ETF Correlation\n",
    "</h3>\n",
    "<p>\n",
    "In <i>The 12% Solution</i> ETF rotation the ETF with the highest return in the previous\n",
    "three months is selected, unless the return is less than the return of SHY, in which case\n",
    "SHY is selected.\n",
    "</p>\n",
    "<p>\n",
    "One possible problem with this rotation algorith is that the ETFs are highly\n",
    "correlated. One ETF may do somewhat better than the other ETFs, but they are all\n",
    "market ETFs and are likely to have similar performance.  If the \"market\" is down\n",
    "then all of the ETFs will probably be down.  The ETFs are also likely to have\n",
    "similar returns.\n",
    "</p>\n",
    "<p>\n",
    "The correlation matrix below shows the correlation between the equity ETFs.\n",
    "</p>"
   ],
   "metadata": {
    "collapsed": false,
    "pycharm": {
     "name": "#%% md\n"
    }
   }
  },
  {
   "cell_type": "code",
   "execution_count": 2,
   "outputs": [
    {
     "name": "stdout",
     "output_type": "stream",
     "text": [
      "╒═════╤═══════╤═══════╤═══════╤═══════╕\n",
      "│     │   IWM │   MDY │   QQQ │   SPY │\n",
      "╞═════╪═══════╪═══════╪═══════╪═══════╡\n",
      "│ IWM │ 1     │ 0.997 │ 0.953 │ 0.981 │\n",
      "├─────┼───────┼───────┼───────┼───────┤\n",
      "│ MDY │ 0.997 │ 1     │ 0.953 │ 0.985 │\n",
      "├─────┼───────┼───────┼───────┼───────┤\n",
      "│ QQQ │ 0.953 │ 0.953 │ 1     │ 0.988 │\n",
      "├─────┼───────┼───────┼───────┼───────┤\n",
      "│ SPY │ 0.981 │ 0.985 │ 0.988 │ 1     │\n",
      "╘═════╧═══════╧═══════╧═══════╧═══════╛\n"
     ]
    }
   ],
   "source": [
    "print(tabulate(corr_mat, headers=[*corr_mat.columns], tablefmt='fancy_grid'))"
   ],
   "metadata": {
    "collapsed": false,
    "pycharm": {
     "name": "#%%\n"
    }
   }
  },
  {
   "cell_type": "markdown",
   "source": [
    "<p>\n",
    "The high correlation between the ETFs suggests two areas that are worth investigating:\n",
    "</p>\n",
    "<ul>\n",
    "<li>\n",
    "<p>\n",
    "Would the financial performance be similar if only a single ETF were used. For example,\n",
    "SPY?\n",
    "</p>\n",
    "</li>\n",
    "<li>\n",
    "<p>\n",
    "If a larger ETF universe is used ETFs with lower correlation might be selected\n",
    "resulting in better performance.\n",
    "</p>\n",
    "</li>\n",
    "</ul>\n",
    "\n",
    "<h3>\n",
    "Asset return over time\n",
    "</h3>\n",
    "\n",
    "<p>\n",
    "The simple return for a time period <i>t</i> is:\n",
    "</p>\n",
    "\n",
    "$\\ R_t = \\large \\frac{R_t - R_{t-1}}{R_{t-1}} = \\frac{R_t}{R_{t-1}} - 1$\n",
    "\n",
    "The portfolio value calculated via continuously compounded returns is:\n",
    "\n",
    "$\\ portfolio\\ value\\ = V_t = V_{t-1} + V_{t-1} \\times R_{t} $\n",
    "\n",
    "where $\\ V_{0} = initial\\ investment $"
   ],
   "metadata": {
    "collapsed": false,
    "pycharm": {
     "name": "#%% md\n"
    }
   }
  },
  {
   "cell_type": "code",
   "execution_count": 3,
   "outputs": [],
   "source": [
    "def findDateIndex(date_index: DatetimeIndex, search_date: datetime) -> int:\n",
    "    '''\n",
    "    In a DatetimeIndex, find the index of the date that is nearest to search_date.\n",
    "    This date will either be equal to search_date or the next date that is less than\n",
    "    search_date\n",
    "    '''\n",
    "    index: int = -1\n",
    "    i = 0\n",
    "    date_t = datetime.today()\n",
    "    for i in range(0, len(date_index)):\n",
    "        date_t = date_index[i]\n",
    "        if type(date_t) == str:\n",
    "            date_t = datetime.fromisoformat(date_t)\n",
    "        if date_t >= search_date:\n",
    "            break\n",
    "    if i < (len(date_index) - 1):\n",
    "        if date_t > search_date:\n",
    "            index = i -1\n",
    "        else:\n",
    "            index = i\n",
    "    return index\n",
    "\n",
    "\n",
    "asset_adj_close = equity_adj_close.copy()\n",
    "asset_adj_close[shy_adj_close.columns[0]] = shy_adj_close\n",
    "\n",
    "start_date_ix = findDateIndex(asset_adj_close.index, start_date)\n",
    "\n",
    "assert start_date_ix >= 0\n",
    "\n",
    "\n",
    "def chooseAsset(start: int, end: int, asset_set: pd.DataFrame) -> pd.DataFrame:\n",
    "    '''\n",
    "    Choose an ETF asset or cash for a particular range of close price values.\n",
    "    The ETF and cash time series should be contained in a single DataFrame\n",
    "    The function returns a DataFrame with the highest returning asset for the\n",
    "    period.\n",
    "    '''\n",
    "    returns: pd.DataFrame = pd.DataFrame()\n",
    "    for asset in asset_set.columns:\n",
    "        t1 = asset_set[asset][start]\n",
    "        t2 = asset_set[asset][end]\n",
    "        r = (t2/t1) - 1\n",
    "        returns[asset] = [r]\n",
    "    returns.columns = asset_set.columns\n",
    "    column = returns.idxmax(axis=1)[0]\n",
    "    rslt_df = pd.DataFrame(asset_set[column])\n",
    "    return rslt_df"
   ],
   "metadata": {
    "collapsed": false,
    "pycharm": {
     "name": "#%%\n"
    }
   }
  },
  {
   "cell_type": "markdown",
   "source": [
    "<h3>\n",
    "Start Period\n",
    "</h3>\n",
    "\n",
    "<p>\n",
    "<i>The 12% Solution</i> ETF rebalancing algorithm picks the ETF with the higest\n",
    "three month return or SHY (the proxy for cash).  The starting date is the first trading\n",
    "day in March 2008, March 3, 2008. The start of the look-back period is December 1, 2007.\n",
    "</p>\n",
    "The stock part of the portfolio (60%) is invested\n",
    "in the chosen asset for the next month and the portfolio is rebalanced again.\n",
    "</p>\n",
    "<p>\n",
    "The 40% of the portfolio that is held in bonds is invested in either TLT (the Treasury\n",
    "ETF) or JNK (the high yield corporate bond ETF).\n",
    "</p>"
   ],
   "metadata": {
    "collapsed": false,
    "pycharm": {
     "name": "#%% md\n"
    }
   }
  },
  {
   "cell_type": "code",
   "execution_count": 4,
   "outputs": [
    {
     "name": "stdout",
     "output_type": "stream",
     "text": [
      "The asset for the first three month period will be SHY\n"
     ]
    }
   ],
   "source": [
    "start_date_ix = findDateIndex(asset_adj_close.index, start_date)\n",
    "ts_df = chooseAsset(0, start_date_ix, asset_adj_close)\n",
    "\n",
    "print(f'The asset for the first three month period will be {ts_df.columns[0]}')"
   ],
   "metadata": {
    "collapsed": false,
    "pycharm": {
     "name": "#%%\n"
    }
   }
  },
  {
   "cell_type": "markdown",
   "source": [
    "To check that the code is picking the right asset, we can look at the plot for\n",
    "the asset close prices."
   ],
   "metadata": {
    "collapsed": false,
    "pycharm": {
     "name": "#%% md\n"
    }
   }
  },
  {
   "cell_type": "code",
   "execution_count": 5,
   "outputs": [
    {
     "data": {
      "text/plain": "<AxesSubplot:title={'center':'December 2007  to March 2008 Returns'}, xlabel='Date'>"
     },
     "execution_count": 5,
     "metadata": {},
     "output_type": "execute_result"
    },
    {
     "data": {
      "text/plain": "<Figure size 720x432 with 1 Axes>",
      "image/png": "[encoded data removed]"
     },
     "metadata": {},
     "output_type": "display_data"
    }
   ],
   "source": [
    "last_quarter:pd.DataFrame = asset_adj_close[:][0:start_date_ix].copy()\n",
    "\n",
    "for col in last_quarter.columns:\n",
    "    last_quarter[col] = last_quarter[col] - last_quarter[col][0]\n",
    "\n",
    "last_quarter.plot(grid=True, title='December 2007  to March 2008 Returns', figsize=(10,6))"
   ],
   "metadata": {
    "collapsed": false,
    "pycharm": {
     "name": "#%%\n"
    }
   }
  },
  {
   "cell_type": "markdown",
   "source": [
    "<h3>\n",
    "ETF Rotation Algorithm\n",
    "</h3>\n",
    "\n",
    "<ol>\n",
    "<li>\n",
    "Create a DataFrame that constains adjusted close price for the the ETF universe and the\n",
    "cash ETF. This will be referred to as the asset DataFrame\n",
    "</li>\n",
    "<li>\n",
    "<p>\n",
    "Choose a start date that has three trading months of past data.\n",
    "</p>\n",
    "<p>\n",
    "From start date to the current date, stepping by one trading month\n",
    "</p>\n",
    "<ol>\n",
    "<li>\n",
    "Choose the asset with the highest return over the past three trading months\n",
    "from the asset DataFrame (e.g., an equity or the cash ETF).\n",
    "</li>\n",
    "<li>\n",
    "Calculate the daily return for the selected asset for one month forward from the start date.\n",
    "</li>\n",
    "<li>\n",
    "Calculate the daily return for one month forward from the start date for the bond asset.\n",
    "</li>\n",
    "<li>\n",
    "Apply the asset return to 60% of the current portfolio forward for one trading month\n",
    "</li>\n",
    "<li>\n",
    "Apply the bond return to 40% of the current portfolio forward for one trading month\n",
    "</li>\n",
    "<li>\n",
    "Add the two portfolio components to produce the total portfolio value for the month\n",
    "</li>\n",
    "<li>\n",
    "Concatenate the current portfolio total to the portfolio total series that\n",
    "will be used to plot the portfolio performance.\n",
    "</li>\n",
    "</ol>\n",
    "<li>\n",
    "Move the start date forward by one month of trading days\n",
    "</li>\n",
    "</li>\n",
    "</ol>\n",
    "<p>\n",
    "The result will be the portfolio total as a Series (with a date index).\n",
    "</p>"
   ],
   "metadata": {
    "collapsed": false,
    "pycharm": {
     "name": "#%% md\n"
    }
   }
  },
  {
   "cell_type": "code",
   "execution_count": 6,
   "outputs": [],
   "source": [
    "def simple_return(time_series: np.array, period: int) -> List :\n",
    "    return list(((time_series[i]/time_series[i-period]) - 1.0 for i in range(period, len(time_series), period)))\n",
    "\n",
    "\n",
    "def return_df(time_series_df: pd.DataFrame) -> pd.DataFrame:\n",
    "    r_df: pd.DataFrame = pd.DataFrame()\n",
    "    time_series_a: np.array = time_series_df.values\n",
    "    return_l = simple_return(time_series_a, 1)\n",
    "    r_df = pd.DataFrame(return_l)\n",
    "    date_index = time_series_df.index\n",
    "    r_df.index = date_index[1:len(date_index)]\n",
    "    r_df.columns = time_series_df.columns\n",
    "    return r_df\n",
    "\n",
    "\n",
    "def apply_return(start_val: float, return_df: pd.DataFrame) -> np.array:\n",
    "    port_a: np.array = np.zeros( return_df.shape[0] + 1)\n",
    "    port_a[0] = start_val\n",
    "    return_a = return_df.values\n",
    "    for i in range(1, len(port_a)):\n",
    "        port_a[i] = port_a[i-1] + port_a[i-1] * return_a[i-1]\n",
    "    return port_a\n",
    "\n",
    "\n",
    "def portfolio_return(holdings: float,\n",
    "                     asset_percent: float,\n",
    "                     bond_percent: float,\n",
    "                     asset_etfs: pd.DataFrame,\n",
    "                     bond_etfs: pd.DataFrame,\n",
    "                     start_date_i: datetime,\n",
    "                     end_date: datetime) -> pd.DataFrame:\n",
    "    asset_holding= holdings * asset_percent\n",
    "    bond_holding=holdings * bond_percent\n",
    "    back_delta = relativedelta(months=3)\n",
    "    forward_delta = relativedelta(months=1)\n",
    "    date_index = asset_etfs.index\n",
    "    start_date_i = start_date_i\n",
    "    portfolio_a = np.zeros(0)\n",
    "    last_index = 0\n",
    "    while start_date_i <= end_date:\n",
    "        # Start of the back-test data\n",
    "        back_start = start_date_i - back_delta\n",
    "        # End of the back test data\n",
    "        back_end = start_date_i\n",
    "        # end of the forward data period (e.g., one month)\n",
    "        forward_end = start_date_i + forward_delta\n",
    "        start_ix = findDateIndex(date_index, back_start)\n",
    "        end_ix = findDateIndex(date_index, back_end)\n",
    "        forward_ix = findDateIndex(date_index, forward_end)\n",
    "        if start_ix >= 0 and end_ix >= 0 and forward_ix >= 0:\n",
    "            # Choose an asset based on the past three months\n",
    "            asset_df = chooseAsset(start=start_ix, end=end_ix, asset_set=asset_etfs)\n",
    "            asset_month_df = asset_df[:][end_ix:forward_ix]\n",
    "            asset_return_df = return_df(asset_month_df)\n",
    "            bond_df = chooseAsset(start=start_ix, end=end_ix, asset_set=bond_etfs)\n",
    "            bond_month_df = bond_df[:][end_ix:forward_ix]\n",
    "            bond_return_df = return_df(bond_month_df)\n",
    "            port_asset_a = apply_return(asset_holding, asset_return_df)\n",
    "            port_bond_a = apply_return(bond_holding, bond_return_df)\n",
    "            port_total_a = port_asset_a + port_bond_a\n",
    "            portfolio_a = np.append(portfolio_a, port_total_a)\n",
    "            asset_holding = port_total_a[-1] * asset_percent\n",
    "            bond_holding = port_total_a[-1] * bond_percent\n",
    "            last_index = forward_ix\n",
    "            start_date_i = forward_end\n",
    "        else:\n",
    "            break\n",
    "    portfolio_df = pd.DataFrame(portfolio_a)\n",
    "    portfolio_df.columns = ['portfolio']\n",
    "    index_start = findDateIndex(date_index, start_date)\n",
    "    date_index = asset_etfs.index\n",
    "    portfolio_index = date_index[index_start:last_index]\n",
    "    portfolio_df.index = portfolio_index\n",
    "    return portfolio_df\n",
    "\n",
    "\n",
    "holdings = 100000\n",
    "equity_percent = 0.6\n",
    "bond_percent = 0.4\n",
    "\n",
    "tlt = pd.DataFrame(fixed_income_adjclose['TLT'])\n",
    "portfolio_df: pd.DataFrame = portfolio_return(holdings=holdings,\n",
    "                                              asset_percent=equity_percent,\n",
    "                                              bond_percent=bond_percent,\n",
    "                                              asset_etfs=asset_adj_close,\n",
    "                                              bond_etfs=tlt,\n",
    "                                              start_date_i=start_date,\n",
    "                                              end_date=end_date)\n",
    "\n",
    "date_index = equity_adj_close.index\n",
    "index_start = findDateIndex(date_index, start_date)\n",
    "end_date = date_index[-1]\n",
    "if type(end_date) == str:\n",
    "    end_date = datetime.fromisoformat(end_date)\n",
    "index_end = findDateIndex(date_index, end_date)\n",
    "spy_df = equity_adj_close['SPY'][index_start:index_end]\n",
    "plot_df = portfolio_df.copy()\n",
    "date_index = equity_adj_close.index\n",
    "index_start = findDateIndex(date_index, start_date)\n",
    "end_date = portfolio_df.index[-1]\n",
    "if type(end_date) == str:\n",
    "    end_date = datetime.fromisoformat(end_date)\n",
    "index_end = findDateIndex(date_index, end_date)\n",
    "spy_df = equity_adj_close['SPY'][index_start:index_end+1]\n",
    "spy_df.columns = ['SPY']\n",
    "spy_return = return_df(spy_df)\n",
    "portfolio_return = return_df(portfolio_df)\n",
    "spy_return_a = apply_return(start_val=holdings, return_df=spy_return)\n",
    "spy_port = pd.DataFrame(spy_return_a)\n",
    "spy_port.columns = ['SPY']\n",
    "spy_port.index = spy_df.index\n",
    "plot_df = portfolio_df.copy()\n",
    "plot_df['SPY'] = spy_port"
   ],
   "metadata": {
    "collapsed": false,
    "pycharm": {
     "name": "#%%\n"
    }
   }
  },
  {
   "cell_type": "markdown",
   "source": [
    "<h3>\n",
    "Portfolio Results\n",
    "</h3>\n",
    "\n",
    "<p>\n",
    "The plot below shows the results of the ETF rotation portfolio composed of 60% equity\n",
    "and 40% bonds, where the equity portion is composed of an equity or \"cash\" ETF.\n",
    "The bond portion, in this case, is always TLT.\n",
    "</p>\n",
    "<p>\n",
    "The author of <i>The 12% Solution</i> notes that the ETF rotation portfolio has better\n",
    "performance than the S&P 500 (e.g., the SPY ETF) for a ten year period from 2008 to 2017.\n",
    "This changes after 2018.\n",
    "</p>"
   ],
   "metadata": {
    "collapsed": false,
    "pycharm": {
     "name": "#%% md\n"
    }
   }
  },
  {
   "cell_type": "code",
   "execution_count": 7,
   "outputs": [
    {
     "data": {
      "text/plain": "<Figure size 720x432 with 1 Axes>",
      "image/png": "[encoded data removed]"
     },
     "metadata": {},
     "output_type": "display_data"
    }
   ],
   "source": [
    "plot_df.plot(grid=True, title='Portfolio and SPY', figsize=(10,6))\n",
    "\n",
    "trading_days = 252\n",
    "\n",
    "spy_volatility = round(spy_return.values.std() * sqrt(trading_days) * 100, 2)\n",
    "port_volatility = round(portfolio_return.values.std() * sqrt(trading_days) * 100, 2)\n",
    "\n",
    "vol_df = pd.DataFrame([port_volatility, spy_volatility])\n",
    "vol_df.columns = ['Yearly Standard Deviation (percent)']\n",
    "vol_df.index = ['Portfolio', 'SPY']"
   ],
   "metadata": {
    "collapsed": false,
    "pycharm": {
     "name": "#%%\n"
    }
   }
  },
  {
   "cell_type": "markdown",
   "source": [
    "The volatility (risk) of the ETF selection portfolio is significantly less than the\n",
    "SPY ETF which tracks the S&P 500."
   ],
   "metadata": {
    "collapsed": false,
    "pycharm": {
     "name": "#%% md\n"
    }
   }
  },
  {
   "cell_type": "code",
   "execution_count": 8,
   "outputs": [
    {
     "name": "stdout",
     "output_type": "stream",
     "text": [
      "╒═══════════╤═══════════════════════════════════════╕\n",
      "│           │   Yearly Standard Deviation (percent) │\n",
      "╞═══════════╪═══════════════════════════════════════╡\n",
      "│ Portfolio │                                 10.04 │\n",
      "├───────────┼───────────────────────────────────────┤\n",
      "│ SPY       │                                 20.48 │\n",
      "╘═══════════╧═══════════════════════════════════════╛\n"
     ]
    }
   ],
   "source": [
    "print(tabulate(vol_df, headers=[*vol_df.columns], tablefmt='fancy_grid'))\n",
    "\n",
    "\n",
    "def excess_return_series(asset_return: pd.Series, risk_free: pd.Series) -> pd.DataFrame:\n",
    "    excess_ret = asset_return.values.flatten() - risk_free.values.flatten()\n",
    "    excess_ret_df = pd.DataFrame(excess_ret, index=asset_return.index)\n",
    "    return excess_ret_df\n",
    "\n",
    "\n",
    "def excess_return_df(asset_return: pd.DataFrame, risk_free: pd.Series) -> pd.DataFrame:\n",
    "    excess_df: pd.DataFrame = pd.DataFrame()\n",
    "    for col in asset_return.columns:\n",
    "        e_df = excess_return_series(asset_return[col], risk_free)\n",
    "        e_df.columns = [col]\n",
    "        excess_df[col] = e_df\n",
    "    return excess_df\n",
    "\n",
    "def calc_sharpe_ratio(asset_return: pd.DataFrame, risk_free: pd.Series, period: int) -> pd.DataFrame:\n",
    "    excess_return = excess_return_df(asset_return, risk_free)\n",
    "    return_mean: List = []\n",
    "    return_stddev: List = []\n",
    "    for col in excess_return.columns:\n",
    "        mu = np.mean(excess_return[col])\n",
    "        std = np.std(excess_return[col])\n",
    "        return_mean.append(mu)\n",
    "        return_stddev.append(std)\n",
    "    # daily Sharpe ratio\n",
    "    # https://quant.stackexchange.com/questions/2260/how-to-annualize-sharpe-ratio\n",
    "    sharpe_ratio = (np.asarray(return_mean) / np.asarray(return_stddev)) * np.sqrt(period)\n",
    "    result_df: pd.DataFrame = pd.DataFrame(sharpe_ratio).transpose()\n",
    "    result_df.columns = asset_return.columns\n",
    "    ix = asset_return.index\n",
    "    dateformat = '%Y-%m-%d'\n",
    "    ix_start = datetime.strptime(ix[0], dateformat).date()\n",
    "    ix_end = datetime.strptime(ix[len(ix)-1], dateformat).date()\n",
    "    index_str = f'{ix_start} : {ix_end}'\n",
    "    result_df.index = [ index_str ]\n",
    "    return result_df\n",
    "\n",
    "def adjust_time_series(ts_one_df: pd.DataFrame, ts_two_df: pd.DataFrame) -> Tuple[pd.DataFrame, pd.DataFrame]:\n",
    "    \"\"\"\n",
    "    Adjust two DataFrame time series with overlapping date indices so that they\n",
    "    are the same length with the same date indices.\n",
    "    \"\"\"\n",
    "    ts_one_index = pd.to_datetime(ts_one_df.index)\n",
    "    ts_two_index = pd.to_datetime(ts_two_df.index)\n",
    "        # filter the close prices\n",
    "    matching_dates = ts_one_index.isin( ts_two_index )\n",
    "    ts_one_adj = ts_one_df[matching_dates]\n",
    "    # filter the rf_prices\n",
    "    ts_one_index = pd.to_datetime(ts_one_adj.index)\n",
    "    matching_dates = ts_two_index.isin(ts_one_index)\n",
    "    ts_two_adj = ts_two_df[matching_dates]\n",
    "    return ts_one_adj, ts_two_adj\n",
    "\n",
    "\n",
    "# Interest rates are quoted for the days when banks are open. The number of bank open days is less than\n",
    "# the number of trading days. Adjust the portfolio_return series and the interest rate series so that they\n",
    "# align.\n",
    "rf_daily_adj, portfolio_return_adj = adjust_time_series(rf_daily_df, portfolio_return)\n",
    "spy_return_adj, t = adjust_time_series(spy_return, rf_daily_adj)\n",
    "\n",
    "rf_daily_s = rf_daily_adj.squeeze()\n",
    "\n",
    "portfolio_sharpe = calc_sharpe_ratio(portfolio_return_adj, rf_daily_s, trading_days)\n",
    "spy_sharpe = calc_sharpe_ratio(spy_return_adj, rf_daily_s, trading_days)\n",
    "\n",
    "sharpe_df = pd.concat([portfolio_sharpe, spy_sharpe], axis=1)"
   ],
   "metadata": {
    "collapsed": false,
    "pycharm": {
     "name": "#%%\n"
    }
   }
  },
  {
   "cell_type": "markdown",
   "source": [
    "<h3>\n",
    "Sharpe Ratio\n",
    "</h3>\n",
    "\n",
    "<p>\n",
    "The yearly Sharpe ratio for the ETF rotation portfolio and SPY is shown below.\n",
    "</p>"
   ],
   "metadata": {
    "collapsed": false,
    "pycharm": {
     "name": "#%% md\n"
    }
   }
  },
  {
   "cell_type": "code",
   "execution_count": 9,
   "outputs": [
    {
     "name": "stdout",
     "output_type": "stream",
     "text": [
      "╒═════════════════════════╤═════════════╤══════════╕\n",
      "│                         │   portfolio │      SPY │\n",
      "╞═════════════════════════╪═════════════╪══════════╡\n",
      "│ 2008-03-04 : 2022-03-02 │    0.864936 │ 0.596422 │\n",
      "╘═════════════════════════╧═════════════╧══════════╛\n"
     ]
    }
   ],
   "source": [
    "print(tabulate(sharpe_df, headers=[*sharpe_df.columns], tablefmt='fancy_grid'))"
   ],
   "metadata": {
    "collapsed": false,
    "pycharm": {
     "name": "#%%\n"
    }
   }
  },
  {
   "cell_type": "markdown",
   "source": [
    "<h3>\n",
    "Portfolio Return\n",
    "</h3>"
   ],
   "metadata": {
    "collapsed": false
   }
  },
  {
   "cell_type": "code",
   "execution_count": 10,
   "outputs": [],
   "source": [
    "def period_return(portfolio_df: pd.DataFrame, period: int) -> pd.DataFrame:\n",
    "    date_index = portfolio_df.index\n",
    "    values_a = portfolio_df.values\n",
    "    date_list = list()\n",
    "    return_list = list()\n",
    "    for i in range(period, len(values_a), period):\n",
    "        r = (values_a[i]/values_a[i-period]) - 1\n",
    "        d = date_index[i]\n",
    "        return_list.append(r)\n",
    "        date_list.append(d)\n",
    "    return_df = pd.DataFrame(return_list)\n",
    "    return_df.index = date_list\n",
    "    return return_df\n",
    "\n",
    "period_return_df = period_return(portfolio_df=portfolio_df, period=trading_days)\n",
    "spy_period_return_df = period_return(portfolio_df=spy_df, period=trading_days)\n",
    "portfolio_spy_return_df = pd.concat([period_return_df, spy_period_return_df], axis=1)\n",
    "portfolio_spy_return_df.columns = ['ETF Rotation', 'SPY']\n",
    "portfolio_spy_return_df = round(portfolio_spy_return_df * 100, 2)"
   ],
   "metadata": {
    "collapsed": false,
    "pycharm": {
     "name": "#%%\n"
    }
   }
  },
  {
   "cell_type": "markdown",
   "source": [
    "<h3>\n",
    "Percentage return for the ETF Rotation Portfolio and SPY\n",
    "</h3>"
   ],
   "metadata": {
    "collapsed": false,
    "pycharm": {
     "name": "#%% md\n"
    }
   }
  },
  {
   "cell_type": "code",
   "execution_count": 11,
   "outputs": [
    {
     "name": "stdout",
     "output_type": "stream",
     "text": [
      "╒════════════╤════════════════╤════════╕\n",
      "│            │   ETF Rotation │    SPY │\n",
      "╞════════════╪════════════════╪════════╡\n",
      "│ 2009-03-03 │           4.9  │ -46.25 │\n",
      "├────────────┼────────────────┼────────┤\n",
      "│ 2010-03-03 │          22.73 │  63.98 │\n",
      "├────────────┼────────────────┼────────┤\n",
      "│ 2011-03-02 │           6.73 │  19.13 │\n",
      "├────────────┼────────────────┼────────┤\n",
      "│ 2012-03-01 │          10.45 │   7.17 │\n",
      "├────────────┼────────────────┼────────┤\n",
      "│ 2013-03-05 │           6.82 │  14.51 │\n",
      "├────────────┼────────────────┼────────┤\n",
      "│ 2014-03-05 │          17.07 │  24.14 │\n",
      "├────────────┼────────────────┼────────┤\n",
      "│ 2015-03-05 │          15.16 │  14.29 │\n",
      "├────────────┼────────────────┼────────┤\n",
      "│ 2016-03-04 │          -2.77 │  -2.8  │\n",
      "├────────────┼────────────────┼────────┤\n",
      "│ 2017-03-06 │           2.88 │  21.15 │\n",
      "├────────────┼────────────────┼────────┤\n",
      "│ 2018-03-06 │          11.8  │  17.03 │\n",
      "├────────────┼────────────────┼────────┤\n",
      "│ 2019-03-07 │          -1.27 │   2.69 │\n",
      "├────────────┼────────────────┼────────┤\n",
      "│ 2020-03-06 │          11.04 │  10.21 │\n",
      "├────────────┼────────────────┼────────┤\n",
      "│ 2021-03-08 │          21.44 │  30.72 │\n",
      "╘════════════╧════════════════╧════════╛\n"
     ]
    }
   ],
   "source": [
    "print(tabulate(portfolio_spy_return_df, headers=[*portfolio_spy_return_df.columns], tablefmt='fancy_grid'))\n",
    "\n",
    "average_return_df = pd.DataFrame(portfolio_spy_return_df.mean()).transpose()"
   ],
   "metadata": {
    "collapsed": false,
    "pycharm": {
     "name": "#%%\n"
    }
   }
  },
  {
   "cell_type": "markdown",
   "source": [
    "<h3>\n",
    "Average Return (percent)\n",
    "</h3>"
   ],
   "metadata": {
    "collapsed": false,
    "pycharm": {
     "name": "#%% md\n"
    }
   }
  },
  {
   "cell_type": "code",
   "execution_count": 12,
   "outputs": [
    {
     "name": "stdout",
     "output_type": "stream",
     "text": [
      "╒════╤════════════════╤═════════╕\n",
      "│    │   ETF Rotation │     SPY │\n",
      "╞════╪════════════════╪═════════╡\n",
      "│  0 │        9.76769 │ 13.5362 │\n",
      "╘════╧════════════════╧═════════╛\n"
     ]
    }
   ],
   "source": [
    "print(tabulate(average_return_df, headers=[*average_return_df.columns], tablefmt='fancy_grid'))"
   ],
   "metadata": {
    "collapsed": false,
    "pycharm": {
     "name": "#%%\n"
    }
   }
  },
  {
   "cell_type": "code",
   "execution_count": 12,
   "outputs": [],
   "source": [],
   "metadata": {
    "collapsed": false,
    "pycharm": {
     "name": "#%%\n"
    }
   }
  }
 ],
 "metadata": {
  "kernelspec": {
   "display_name": "Python 3",
   "language": "python",
   "name": "python3"
  },
  "language_info": {
   "codemirror_mode": {
    "name": "ipython",
    "version": 2
   },
   "file_extension": ".py",
   "mimetype": "text/x-python",
   "name": "python",
   "nbconvert_exporter": "python",
   "pygments_lexer": "ipython2",
   "version": "2.7.6"
  }
 },
 "nbformat": 4,
 "nbformat_minor": 0
}